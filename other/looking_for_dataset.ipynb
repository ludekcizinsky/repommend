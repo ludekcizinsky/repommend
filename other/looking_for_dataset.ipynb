{
 "cells": [
  {
   "cell_type": "markdown",
   "metadata": {
    "cell_id": "00000-08fac207-13e4-449d-b452-9ade637c6018",
    "deepnote_cell_type": "markdown"
   },
   "source": [
    "## Brainstorming\n",
    "### ICAN\n",
    "**Economic**\n",
    "- Github - recommend repositories to follow, see more [here](https://github.blog/2009-07-29-the-2009-github-contest/).\n",
    "- Stack overflow favorites - bipartite (nodes: user or post, link if user liked post), see more [here]\n",
    "(http://konect.cc/networks/stackexchange-stackoverflow/).\n",
    "\n",
    "**Social**\n",
    "- Advogato - Advogato is a site for open source sw. Nodes therefore represent users of this site and links represent trust between users. Edges are weighted meaning the level of trust between users. Apparently, you can also look at how network evolved over time from 300 users to 6500 users. A reasearch paper was written about this already,see more [here](https://ieeexplore.ieee.org/document/5380625?arnumber=5380625&tag=1)\n",
    "\n",
    "- last.fm - nodes are users and songs/bands (bipartite), could be interesting to look into new songs to listen to prediction. See more [here](https://repositori.upf.edu/handle/10230/12223)\n",
    "\n",
    "**Information**\n",
    "- Wikipedia links (2016) - Eight networks of hyperlinks among articles on Wikipedia, for English (en), German (de), French (fr), Italian (it), Japanese (ja), Polish (pl), Portuguese (pt), Russian (ru) language wikipedias. A directed edge (i,j) indicates that article i hyperlinks to j.\n",
    "\n",
    "- Darkweb (2017) - A snapshot of the \"darkweb\" subnetwork of the World Wide Web, extracted by a crawl via the popular tor2web proxy onion.link. A weighted edge (i,j) represents the number of pages on domain i linking to pages on domain j . This snapshot was created between November 2016 and February 2017. See the research paper [here](https://arxiv.org/abs/1704.07525)\n",
    "\n",
    "**Technological**\n",
    "- Python dependency network - Python's package dependency networks. Nodes in the network are Python's packages registered to PyPI and edges are dependencies among packages.\n",
    "- Skitter IP graph - A snapshot of the router-level internet, as measured by CAIDA's skitter monitoring system, in 2003.\n",
    "\n",
    "**Transportation**\n",
    "- London bike sharing (2014) - Network of trips taken by customers of the London Bicycle Sharing Scheme from June and July 2014. Nodes are bike stations and each directed edge (i,j) represents checking a bike out station i and returning it at station j. Edge weight represents the duration of each trip. Data are from the Transport for London (TfL) Open Data API. In the linked repository, the network is under Data/ and called \"trips.zip.\"\n",
    "\n",
    "### Netzschleuder\n",
    "- **Brazilian prostitution network (2010)** - A bipartite network of escort and individuals who buy sex from them in Brazil, extracted from a Brazilian online community for such ratings. Edges represent a purchase of sexual intercourse with an escort, and the edge weight gives the buyer's rating of the escort: -1 (bad), 0 (neutral), or +1 (good). Other edge attributes are available. Edges are timestamped. There was research paper written with title: \"Simulated epidemics in an empirical spatiotemporal network of 50,185 sexual contacts.\"\n",
    "\n",
    "- **Webgraph (Berkeley-Stanford)** - The web graph of Berkeley and Stanford Universities (berkeley.edu and stanford.edu), as collected in 2002. Nodes represent pages and directed edges represent hyperlinks between them.\n",
    "\n",
    "- **Old Google web graph (2002)** - A web graph representing a crawl of a portion of the general WWW, from a 2002 Google Programming contest.\n",
    "\n",
    "- **Web trackers** - This is the bipartite network of internet domains and the trackers they contain, such as the Facebook button and Google Analytics. Left nodes are domains and right nodes are trackers, identified also by their domain."
   ]
  },
  {
   "cell_type": "markdown",
   "metadata": {
    "created_in_deepnote_cell": true,
    "deepnote_cell_type": "markdown",
    "tags": []
   },
   "source": [
    "<a style='text-decoration:none;line-height:16px;display:flex;color:#5B5B62;padding:10px;justify-content:end;' href='https://deepnote.com?utm_source=created-in-deepnote-cell&projectId=58d54238-eda4-4682-9c9f-301f49ceb237' target=\"_blank\">\n",
    "<img alt='Created in deepnote.com' style='display:inline;max-height:16px;margin:0px;margin-right:7.5px;' src='data:image/svg+xml;base64,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' > </img>\n",
    "Created in <span style='font-weight:600;margin-left:4px;'>Deepnote</span></a>"
   ]
  }
 ],
 "metadata": {
  "deepnote": {
   "is_reactive": false
  },
  "deepnote_execution_queue": [],
  "deepnote_notebook_id": "4602385a-8ab6-4276-8ecf-436d72def2a6",
  "kernelspec": {
   "display_name": "Python 3",
   "language": "python",
   "name": "python3"
  },
  "language_info": {
   "codemirror_mode": {
    "name": "ipython",
    "version": 3
   },
   "file_extension": ".py",
   "mimetype": "text/x-python",
   "name": "python",
   "nbconvert_exporter": "python",
   "pygments_lexer": "ipython3",
   "version": "3.8.5"
  }
 },
 "nbformat": 4,
 "nbformat_minor": 2
}
