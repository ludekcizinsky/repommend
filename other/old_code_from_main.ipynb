{
 "cells": [
  {
   "cell_type": "code",
   "execution_count": null,
   "metadata": {
    "cell_id": "00000-18c4199a-7fa9-496f-bcfe-cfc7ce947a88",
    "deepnote_cell_type": "code",
    "tags": []
   },
   "outputs": [],
   "source": [
    "# create visualisation of first n users\n",
    "n = 10\n",
    "sampled_nodes = ['u' + str(i) for i in range(1,n+1)]\n",
    "\n",
    "G_vis = nx.Graph()\n",
    "G_vis.add_nodes_from(sampled_nodes)\n",
    "\n",
    "for node in sampled_nodes:\n",
    "    for n in G.neighbors(node):\n",
    "        G_vis.add_edge(node, n)\n",
    "\n",
    "# kanvas.show('basic_network_visualisation.html')\n",
    "kanvas = Network(height=800, width=800, notebook=True) # pyvis\n",
    "kanvas.from_nx(G_vis)\n",
    "kanvas.show('test.html')"
   ]
  },
  {
   "cell_type": "code",
   "execution_count": null,
   "metadata": {},
   "outputs": [],
   "source": [
    "user_degree = [G.degree(n) for n in G.nodes() if n[0] == 'u']\n",
    "repos_degree = [G.degree(n) for n in G.nodes() if n[0] == 'r']\n",
    "\n",
    "user_degree, count_user_degree = np.unique(user_degree, return_counts=True)\n",
    "repos_degree, count_repos_degree = np.unique(repos_degree, return_counts=True)\n",
    "\n",
    "#Normalize\n",
    "count_user_degree = count_user_degree / sum(count_user_degree)\n",
    "count_repos_degree = count_repos_degree / sum(count_repos_degree)\n",
    "\n",
    "#CDF\n",
    "cdf_user_degree = user_degree.cumsum() / np.sum(user_degree)\n",
    "cdf_repos_degree = repos_degree.cumsum() / np.sum(repos_degree)\n",
    "\n",
    "#CCDF\n",
    "ccdf_user_degree = 1-cdf_user_degree\n",
    "ccdf_repos_degree = 1-cdf_repos_degree\n",
    "\n",
    "#Plotting on a log-log scale\n",
    "fig, axes = plt.subplots(nrows=2, ncols=2, figsize=(13, 12))\n",
    "axes[0][0].plot(repos_degree, count_repos_degree,'.')\n",
    "axes[0][0].set_xlabel('Degree')\n",
    "axes[0][0].set_title('Repos degree')\n",
    "axes[0][0].set_ylabel('p(k)')\n",
    "axes[0][0].set_yscale('log')\n",
    "axes[0][0].set_xscale('log')\n",
    "\n",
    "\n",
    "axes[0][1].plot(user_degree, count_user_degree,'.')\n",
    "axes[0][1].set_title('User degree')\n",
    "axes[0][1].set_xlabel('Degree')\n",
    "axes[0][1].set_ylabel('p(k)')\n",
    "axes[0][1].set_yscale('log')\n",
    "axes[0][1].set_xscale('log')\n",
    "\n",
    "#CCDF\n",
    "#Repos ccdf\n",
    "axes[1][0].plot(repos_degree,ccdf_repos_degree)\n",
    "axes[1][0].set_title('Repos CCDF')\n",
    "axes[1][0].set_xlabel('x')\n",
    "axes[1][0].set_ylabel('p(k>=x)')\n",
    "axes[1][0].set_yscale('log')\n",
    "axes[1][0].set_xscale('log')\n",
    "\n",
    "#User ccdf\n",
    "axes[1][1].plot(user_degree,ccdf_user_degree)\n",
    "axes[1][1].set_title('USER CCDF')\n",
    "axes[1][1].set_xlabel('x')\n",
    "axes[1][1].set_ylabel('p(k>=x)')\n",
    "axes[1][1].set_yscale('log')\n",
    "axes[1][1].set_xscale('log')\n",
    "plt.show()"
   ]
  },
  {
   "cell_type": "code",
   "execution_count": null,
   "metadata": {},
   "outputs": [],
   "source": [
    "#Power law fit\n",
    "x_data = [repos_degree,user_degree,repos_degree,user_degree]\n",
    "y_data = [count_repos_degree,count_user_degree,ccdf_repos_degree,ccdf_user_degree]\n",
    "titles = ['Repos degree','User degree','Repos CCDF','User CCDF']\n",
    "\n",
    "#Transforming the scale and checking for 0 (where log is not defined)\n",
    "# 0 comes from the CCDF because there is a 0 probability that x will be larger than the absolutely largest \n",
    "# degree in the network\n",
    "\n",
    "x_trans_data = [np.where(i != 0, np.log10(i), 0) for i in x_data]\n",
    "y_trans_data = [np.where(i != 0, np.log10(i), 0) for i in y_data]\n",
    "\n",
    "\n",
    "fig, axes = plt.subplots(2,2, figsize=(10, 10), facecolor='w', edgecolor='k')\n",
    "axes = axes.ravel()\n",
    "\n",
    "for i in range(4):\n",
    "    x,y = x_trans_data[i].reshape((-1,1)), y_trans_data[i]\n",
    "\n",
    "    model = LinearRegression()\n",
    "    model = model.fit(x,y)\n",
    "\n",
    "    xs = np.linspace(np.min(x),np.max(x)+0.5,100)\n",
    "\n",
    "    ys = model.predict(xs.reshape((-1,1)))\n",
    "\n",
    "    axes[i].plot(x,y,'.')\n",
    "    axes[i].plot(xs,ys)\n",
    "    axes[i].set_title(titles[i])\n",
    "    "
   ]
  },
  {
   "cell_type": "markdown",
   "metadata": {},
   "source": [
    "## #0X Community discovery\n",
    "\n",
    "We decided to do community discovery for these selected projected - backboned networks \"....\" using random walk and label propagation. To evaluate the existence of communities we used Modularity, Coverage and Performance\n",
    "\n",
    "Modularity \n",
    "- NA book\n",
    "\n",
    "Coverage\n",
    "- The coverage of a partition is the ratio of the number of intra-community edges to the total number of edges in the graph.\n",
    "\n",
    "Performance\n",
    "- The performance of a partition is the number of intra-community edges plus inter-community non-edges divided by the total number of potential edges."
   ]
  },
  {
   "cell_type": "markdown",
   "metadata": {},
   "source": [
    "##### Initiate a graph for the backboned network"
   ]
  },
  {
   "cell_type": "code",
   "execution_count": null,
   "metadata": {},
   "outputs": [],
   "source": [
    "backboned_unipartite_name = 'df_table_simple_weight'\n",
    "edge_list = pd.read_csv(f\"{PATH_TO['data']['backboning']}/{backboned_unipartite_name}.csv\")\n",
    "G = nx.from_pandas_edgelist(edge_list,'src','trg', edge_attr='score')"
   ]
  },
  {
   "cell_type": "markdown",
   "metadata": {},
   "source": [
    "##### Find communitites"
   ]
  },
  {
   "cell_type": "code",
   "execution_count": null,
   "metadata": {},
   "outputs": [],
   "source": [
    "from cscripts import community_discovery\n",
    "\n",
    "method_name = 'label_prop_semi' # label_prop_semi, 'label_prop_asyn','max_modularity', 'random_walk'\n",
    "communities = community_discovery.CD_unipartite(G,method = method_name,weight_name='score')\n",
    "\n",
    "print(len(communities)) #number of communities"
   ]
  },
  {
   "cell_type": "markdown",
   "metadata": {},
   "source": [
    "#### Measure the existance of communities"
   ]
  },
  {
   "cell_type": "code",
   "execution_count": null,
   "metadata": {},
   "outputs": [],
   "source": [
    "method_name = 'modularity' # modularity, coverage,performance\n",
    "\n",
    "metric = community_discovery.Partition_measure(G,communities ,method = method_name,weight_name='score')\n",
    "\n",
    "print(metric)"
   ]
  },
  {
   "cell_type": "markdown",
   "metadata": {
    "created_in_deepnote_cell": true,
    "deepnote_cell_type": "markdown",
    "tags": []
   },
   "source": [
    "<a style='text-decoration:none;line-height:16px;display:flex;color:#5B5B62;padding:10px;justify-content:end;' href='https://deepnote.com?utm_source=created-in-deepnote-cell&projectId=58d54238-eda4-4682-9c9f-301f49ceb237' target=\"_blank\">\n",
    "<img alt='Created in deepnote.com' style='display:inline;max-height:16px;margin:0px;margin-right:7.5px;' src='data:image/svg+xml;base64,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' > </img>\n",
    "Created in <span style='font-weight:600;margin-left:4px;'>Deepnote</span></a>"
   ]
  }
 ],
 "metadata": {
  "deepnote": {
   "is_reactive": false
  },
  "deepnote_execution_queue": [],
  "deepnote_notebook_id": "515349a2-c1d2-41ba-aae6-c1ac9c82a97d",
  "kernelspec": {
   "display_name": "Python 3",
   "language": "python",
   "name": "python3"
  },
  "language_info": {
   "codemirror_mode": {
    "name": "ipython",
    "version": 3
   },
   "file_extension": ".py",
   "mimetype": "text/x-python",
   "name": "python",
   "nbconvert_exporter": "python",
   "pygments_lexer": "ipython3",
   "version": "3.8.5"
  }
 },
 "nbformat": 4,
 "nbformat_minor": 2
}
