{
 "cells": [
  {
   "cell_type": "code",
   "execution_count": 12,
   "id": "2bd50719",
   "metadata": {},
   "outputs": [],
   "source": [
    "from IPython.display import Markdown, display"
   ]
  },
  {
   "cell_type": "markdown",
   "id": "4044c191",
   "metadata": {},
   "source": [
    "<h1 style=\"color:#003399;\">Comparison</h1>\n",
    "\n",
    "---\n",
    "This notebook serves the purpose of analysing all generated graphs within this project, in order to neatly compare the network metrics and relevant plots. It uses the `Markdown` files, that were generated automatically from the function `generate_markdown` on a `nx.Graph` object. We are analysing:\n",
    "\n",
    "1. Projections \n",
    "\n",
    "2. Backboning Techniques "
   ]
  },
  {
   "cell_type": "markdown",
   "id": "72ba4a0b",
   "metadata": {},
   "source": [
    "<h1 style=\"color:#003399;\">Projections</h1>\n",
    "\n",
    "---"
   ]
  },
  {
   "cell_type": "code",
   "execution_count": 6,
   "id": "1b1e81b1",
   "metadata": {},
   "outputs": [
    {
     "data": {
      "text/markdown": [
       "# Generic Summary of Unipartite Graph **Simple_Weight**\n",
       "---\n",
       "Created: 22/11/21\n",
       "Computation Time: 129.94sec\n",
       "\n",
       "## Basic Statistics\n",
       "---\n",
       "<table>\n",
       "<tr><th align=\"center\"><img width=\"441\" height=\"1\"><p><small>Network Statistic</small></p></th><th align=\"center\"><img width=\"441\" height=\"1\"><p><small>Result</small></p></th></tr>\n",
       "<tr><td>Number of Nodes</td><td>108748</td></tr>\n",
       "<tr><td>Number of Edges</td><td>11058181</td></tr>\n",
       "<tr><td>Global Density</td><td>0.0018701443365104705</td></tr>\n",
       "<tr><td>Global Diameter</td><td>No Global Diameter (Unconnected Graph)</td></tr>\n",
       "</table>\n",
       "\n",
       "## Degree Statistics\n",
       "---\n",
       "<table>\n",
       "<tr><th align=\"center\"><img width=\"441\" height=\"1\"><p><small>Network Statistic</small></p></th><th align=\"center\"><img width=\"441\" height=\"1\"><p><small>Result</small></p></th></tr>\n",
       "<tr><td>Average Degree</td><td>203.37258616250415</td></tr>\n",
       "<tr><td>Five-Number-Summary Degrees</td><td>[    1.     6.    26.   100. 29649.]</td></tr>\n",
       "</table>\n",
       "\n",
       "## Edge Weight Statistics\n",
       "---\n",
       "<table>\n",
       "<tr><th align=\"center\"><img width=\"441\" height=\"1\"><p><small>Network Statistic</small></p></th><th align=\"center\"><img width=\"441\" height=\"1\"><p><small>Result</small></p></th></tr>\n",
       "<tr><td>Average Edge Weight</td><td>1.5210834403958482</td></tr>\n",
       "<tr><td>Five-Number-Summary Edge Weights</td><td>[  1.   1.   1.   1. 954.]</td></tr>\n",
       "<tr><td>Variance of Edge Weights</td><td>8.412248792258952</td></tr>\n",
       "<tr><td>Most Frequent Edge Weight</td><td>1</td></tr>\n",
       "</table>\n",
       "\n",
       "## Clustering Statistics\n",
       "---\n",
       "<table>\n",
       "<tr><th align=\"center\"><img width=\"441\" height=\"1\"><p><small>Network Statistic</small></p></th><th align=\"center\"><img width=\"441\" height=\"1\"><p><small>Result</small></p></th></tr>\n",
       "<tr><td>Average LCC</td><td>None</td></tr>\n",
       "<tr><td>Five-Number-Summary LCC</td><td>None</td></tr>\n",
       "</table>\n",
       "\n",
       "## Connected Components Statistics\n",
       "---\n",
       "<table>\n",
       "<tr><th align=\"center\"><img width=\"441\" height=\"1\"><p><small>Network Statistic</small></p></th><th align=\"center\"><img width=\"441\" height=\"1\"><p><small>Result</small></p></th></tr>\n",
       "<tr><td>Number of CC</td><td>2948</td></tr>\n",
       "<tr><td>Average CC Size</td><td>36.888738127544094</td></tr>\n",
       "<tr><td>Five-Number-Summary of CC Sizes</td><td>[    2.     2.     2.     3. 99907.]</td></tr>\n",
       "<tr><td>Average CC Density</td><td>0.9750485618768777</td></tr>\n",
       "<tr><td>Five-Number-Summary of CC Densities</td><td>[0.00221309 1.         1.         1.         1.        ]</td></tr>\n",
       "</table>\n",
       "\n",
       "## Centrality Statistics\n",
       "---\n",
       "<table>\n",
       "<tr><th align=\"center\"><img width=\"441\" height=\"1\"><p><small>Network Statistic</small></p></th><th align=\"center\"><img width=\"441\" height=\"1\"><p><small>Result</small></p></th></tr>\n",
       "<tr><td>Degree Centrality</td><td>['r17', 'r302', 'r616', 'r654', 'r8', 'r76', 'r58', 'r518', 'r508', 'r84']</td></tr>\n",
       "<tr><td>Betweenness Centrality</td><td>None</td></tr>\n",
       "</table>\n",
       "\n",
       "## Degree Distribution Plot\n",
       "---\n",
       "![image](data/graph_summaries/projections/simple_weight/assets/degree_distribution.jpg)\n",
       "\n",
       "## Edge Weight Distribution Plot\n",
       "---\n",
       "![image](data/graph_summaries/projections/simple_weight/assets/edge_weight_distribution.jpg)\n",
       "\n",
       "## Ccdf Degree Distribution Plot\n",
       "---\n",
       "![image](data/graph_summaries/projections/simple_weight/assets/ccdf_degree_distribution.jpg)\n",
       "\n"
      ],
      "text/plain": [
       "<IPython.core.display.Markdown object>"
      ]
     },
     "metadata": {},
     "output_type": "display_data"
    }
   ],
   "source": [
    "display(Markdown('data/graph_summaries/projections/simple_weight/simple_weight.md'))"
   ]
  },
  {
   "cell_type": "code",
   "execution_count": 8,
   "id": "a2c4d054",
   "metadata": {},
   "outputs": [
    {
     "data": {
      "text/markdown": [
       "# Generic Summary of Unipartite Graph **Jaccard**\n",
       "---\n",
       "Created: 22/11/21\n",
       "Computation Time: 142.75sec\n",
       "\n",
       "## Basic Statistics\n",
       "---\n",
       "<table>\n",
       "<tr><th align=\"center\"><img width=\"441\" height=\"1\"><p><small>Network Statistic</small></p></th><th align=\"center\"><img width=\"441\" height=\"1\"><p><small>Result</small></p></th></tr>\n",
       "<tr><td>Number of Nodes</td><td>108748</td></tr>\n",
       "<tr><td>Number of Edges</td><td>11058181</td></tr>\n",
       "<tr><td>Global Density</td><td>0.0018701443365104705</td></tr>\n",
       "<tr><td>Global Diameter</td><td>No Global Diameter (Unconnected Graph)</td></tr>\n",
       "</table>\n",
       "\n",
       "## Degree Statistics\n",
       "---\n",
       "<table>\n",
       "<tr><th align=\"center\"><img width=\"441\" height=\"1\"><p><small>Network Statistic</small></p></th><th align=\"center\"><img width=\"441\" height=\"1\"><p><small>Result</small></p></th></tr>\n",
       "<tr><td>Average Degree</td><td>203.37258616250415</td></tr>\n",
       "<tr><td>Five-Number-Summary Degrees</td><td>[    1.     6.    26.   100. 29649.]</td></tr>\n",
       "</table>\n",
       "\n",
       "## Edge Weight Statistics\n",
       "---\n",
       "<table>\n",
       "<tr><th align=\"center\"><img width=\"441\" height=\"1\"><p><small>Network Statistic</small></p></th><th align=\"center\"><img width=\"441\" height=\"1\"><p><small>Result</small></p></th></tr>\n",
       "<tr><td>Average Edge Weight</td><td>0.0815951307846329</td></tr>\n",
       "<tr><td>Five-Number-Summary Edge Weights</td><td>[0.00026645 0.00884956 0.02173913 0.0625     1.        ]</td></tr>\n",
       "<tr><td>Variance of Edge Weights</td><td>0.03199002108008173</td></tr>\n",
       "<tr><td>Most Frequent Edge Weight</td><td>1.0</td></tr>\n",
       "</table>\n",
       "\n",
       "## Clustering Statistics\n",
       "---\n",
       "<table>\n",
       "<tr><th align=\"center\"><img width=\"441\" height=\"1\"><p><small>Network Statistic</small></p></th><th align=\"center\"><img width=\"441\" height=\"1\"><p><small>Result</small></p></th></tr>\n",
       "<tr><td>Average LCC</td><td>None</td></tr>\n",
       "<tr><td>Five-Number-Summary LCC</td><td>None</td></tr>\n",
       "</table>\n",
       "\n",
       "## Connected Components Statistics\n",
       "---\n",
       "<table>\n",
       "<tr><th align=\"center\"><img width=\"441\" height=\"1\"><p><small>Network Statistic</small></p></th><th align=\"center\"><img width=\"441\" height=\"1\"><p><small>Result</small></p></th></tr>\n",
       "<tr><td>Number of CC</td><td>2948</td></tr>\n",
       "<tr><td>Average CC Size</td><td>36.888738127544094</td></tr>\n",
       "<tr><td>Five-Number-Summary of CC Sizes</td><td>[    2.     2.     2.     3. 99907.]</td></tr>\n",
       "<tr><td>Average CC Density</td><td>0.9750485618768777</td></tr>\n",
       "<tr><td>Five-Number-Summary of CC Densities</td><td>[0.00221309 1.         1.         1.         1.        ]</td></tr>\n",
       "</table>\n",
       "\n",
       "## Centrality Statistics\n",
       "---\n",
       "<table>\n",
       "<tr><th align=\"center\"><img width=\"441\" height=\"1\"><p><small>Network Statistic</small></p></th><th align=\"center\"><img width=\"441\" height=\"1\"><p><small>Result</small></p></th></tr>\n",
       "<tr><td>Degree Centrality</td><td>['r17', 'r302', 'r616', 'r654', 'r8', 'r76', 'r58', 'r518', 'r508', 'r84']</td></tr>\n",
       "<tr><td>Betweenness Centrality</td><td>None</td></tr>\n",
       "</table>\n",
       "\n",
       "## Degree Distribution Plot\n",
       "---\n",
       "![image](data/graph_summaries/projections/jaccard/assets/degree_distribution.jpg)\n",
       "\n",
       "## Edge Weight Distribution Plot\n",
       "---\n",
       "![image](data/graph_summaries/projections/jaccard/assets/edge_weight_distribution.jpg)\n",
       "\n",
       "## Ccdf Degree Distribution Plot\n",
       "---\n",
       "![image](data/graph_summaries/projections/jaccard/assets/ccdf_degree_distribution.jpg)\n",
       "\n"
      ],
      "text/plain": [
       "<IPython.core.display.Markdown object>"
      ]
     },
     "metadata": {},
     "output_type": "display_data"
    }
   ],
   "source": [
    "display(Markdown('data/graph_summaries/projections/jaccard/jaccard.md'))"
   ]
  },
  {
   "cell_type": "code",
   "execution_count": 9,
   "id": "d7d0c7d4",
   "metadata": {},
   "outputs": [
    {
     "data": {
      "text/markdown": [
       "# Generic Summary of Unipartite Graph **Hyperbolic**\n",
       "---\n",
       "Created: 22/11/21\n",
       "Computation Time: 144.27sec\n",
       "\n",
       "## Basic Statistics\n",
       "---\n",
       "<table>\n",
       "<tr><th align=\"center\"><img width=\"441\" height=\"1\"><p><small>Network Statistic</small></p></th><th align=\"center\"><img width=\"441\" height=\"1\"><p><small>Result</small></p></th></tr>\n",
       "<tr><td>Number of Nodes</td><td>108748</td></tr>\n",
       "<tr><td>Number of Edges</td><td>11058181</td></tr>\n",
       "<tr><td>Global Density</td><td>0.0018701443365104705</td></tr>\n",
       "<tr><td>Global Diameter</td><td>No Global Diameter (Unconnected Graph)</td></tr>\n",
       "</table>\n",
       "\n",
       "## Degree Statistics\n",
       "---\n",
       "<table>\n",
       "<tr><th align=\"center\"><img width=\"441\" height=\"1\"><p><small>Network Statistic</small></p></th><th align=\"center\"><img width=\"441\" height=\"1\"><p><small>Result</small></p></th></tr>\n",
       "<tr><td>Average Degree</td><td>203.37258616250415</td></tr>\n",
       "<tr><td>Five-Number-Summary Degrees</td><td>[    1.     6.    26.   100. 29649.]</td></tr>\n",
       "</table>\n",
       "\n",
       "## Edge Weight Statistics\n",
       "---\n",
       "<table>\n",
       "<tr><th align=\"center\"><img width=\"441\" height=\"1\"><p><small>Network Statistic</small></p></th><th align=\"center\"><img width=\"441\" height=\"1\"><p><small>Result</small></p></th></tr>\n",
       "<tr><td>Average Edge Weight</td><td>0.018847448780228804</td></tr>\n",
       "<tr><td>Five-Number-Summary Edge Weights</td><td>[ 0.0011325   0.00242131  0.00593242  0.015625   58.0920847 ]</td></tr>\n",
       "<tr><td>Variance of Edge Weights</td><td>0.007034764251640419</td></tr>\n",
       "<tr><td>Most Frequent Edge Weight</td><td>0.001386962552011</td></tr>\n",
       "</table>\n",
       "\n",
       "## Clustering Statistics\n",
       "---\n",
       "<table>\n",
       "<tr><th align=\"center\"><img width=\"441\" height=\"1\"><p><small>Network Statistic</small></p></th><th align=\"center\"><img width=\"441\" height=\"1\"><p><small>Result</small></p></th></tr>\n",
       "<tr><td>Average LCC</td><td>None</td></tr>\n",
       "<tr><td>Five-Number-Summary LCC</td><td>None</td></tr>\n",
       "</table>\n",
       "\n",
       "## Connected Components Statistics\n",
       "---\n",
       "<table>\n",
       "<tr><th align=\"center\"><img width=\"441\" height=\"1\"><p><small>Network Statistic</small></p></th><th align=\"center\"><img width=\"441\" height=\"1\"><p><small>Result</small></p></th></tr>\n",
       "<tr><td>Number of CC</td><td>2948</td></tr>\n",
       "<tr><td>Average CC Size</td><td>36.888738127544094</td></tr>\n",
       "<tr><td>Five-Number-Summary of CC Sizes</td><td>[    2.     2.     2.     3. 99907.]</td></tr>\n",
       "<tr><td>Average CC Density</td><td>0.9750485618768777</td></tr>\n",
       "<tr><td>Five-Number-Summary of CC Densities</td><td>[0.00221309 1.         1.         1.         1.        ]</td></tr>\n",
       "</table>\n",
       "\n",
       "## Centrality Statistics\n",
       "---\n",
       "<table>\n",
       "<tr><th align=\"center\"><img width=\"441\" height=\"1\"><p><small>Network Statistic</small></p></th><th align=\"center\"><img width=\"441\" height=\"1\"><p><small>Result</small></p></th></tr>\n",
       "<tr><td>Degree Centrality</td><td>['r17', 'r302', 'r616', 'r654', 'r8', 'r76', 'r58', 'r518', 'r508', 'r84']</td></tr>\n",
       "<tr><td>Betweenness Centrality</td><td>None</td></tr>\n",
       "</table>\n",
       "\n",
       "## Degree Distribution Plot\n",
       "---\n",
       "![image](data/graph_summaries/projections/hyperbolic/assets/degree_distribution.jpg)\n",
       "\n",
       "## Edge Weight Distribution Plot\n",
       "---\n",
       "![image](data/graph_summaries/projections/hyperbolic/assets/edge_weight_distribution.jpg)\n",
       "\n",
       "## Ccdf Degree Distribution Plot\n",
       "---\n",
       "![image](data/graph_summaries/projections/hyperbolic/assets/ccdf_degree_distribution.jpg)\n",
       "\n"
      ],
      "text/plain": [
       "<IPython.core.display.Markdown object>"
      ]
     },
     "metadata": {},
     "output_type": "display_data"
    }
   ],
   "source": [
    "display(Markdown('data/graph_summaries/projections/hyperbolic/hyperbolic.md'))"
   ]
  },
  {
   "cell_type": "code",
   "execution_count": 13,
   "id": "425aefaf",
   "metadata": {},
   "outputs": [
    {
     "data": {
      "text/markdown": [
       "# Generic Summary of Unipartite Graph **Probs**\n",
       "---\n",
       "Created: 23/11/21\n",
       "Computation Time: 253.95sec\n",
       "\n",
       "## Basic Statistics\n",
       "---\n",
       "<table>\n",
       "<tr><th align=\"center\"><img width=\"441\" height=\"1\"><p><small>Network Statistic</small></p></th><th align=\"center\"><img width=\"441\" height=\"1\"><p><small>Result</small></p></th></tr>\n",
       "<tr><td>Number of Nodes</td><td>108748</td></tr>\n",
       "<tr><td>Number of Edges</td><td>22116362</td></tr>\n",
       "<tr><td>Global Density</td><td>0.0018701443365104705</td></tr>\n",
       "<tr><td>Global Diameter</td><td>None</td></tr>\n",
       "</table>\n",
       "\n",
       "## Degree Statistics\n",
       "---\n",
       "<table>\n",
       "<tr><th align=\"center\"><img width=\"441\" height=\"1\"><p><small>Network Statistic</small></p></th><th align=\"center\"><img width=\"441\" height=\"1\"><p><small>Result</small></p></th></tr>\n",
       "<tr><td>Average Degree</td><td>406.7451723250083</td></tr>\n",
       "<tr><td>Five-Number-Summary Degrees</td><td>[    2.    12.    52.   200. 59298.]</td></tr>\n",
       "</table>\n",
       "\n",
       "## Edge Weight Statistics\n",
       "---\n",
       "<table>\n",
       "<tr><th align=\"center\"><img width=\"441\" height=\"1\"><p><small>Network Statistic</small></p></th><th align=\"center\"><img width=\"441\" height=\"1\"><p><small>Result</small></p></th></tr>\n",
       "<tr><td>Average Edge Weight</td><td>None</td></tr>\n",
       "<tr><td>Five-Number-Summary Edge Weights</td><td>None</td></tr>\n",
       "<tr><td>Variance of Edge Weights</td><td>None</td></tr>\n",
       "<tr><td>Most Frequent Edge Weight</td><td>None</td></tr>\n",
       "</table>\n",
       "\n",
       "## Clustering Statistics\n",
       "---\n",
       "<table>\n",
       "<tr><th align=\"center\"><img width=\"441\" height=\"1\"><p><small>Network Statistic</small></p></th><th align=\"center\"><img width=\"441\" height=\"1\"><p><small>Result</small></p></th></tr>\n",
       "<tr><td>Average LCC</td><td>None</td></tr>\n",
       "<tr><td>Five-Number-Summary LCC</td><td>None</td></tr>\n",
       "</table>\n",
       "\n",
       "## Connected Components Statistics\n",
       "---\n",
       "<table>\n",
       "<tr><th align=\"center\"><img width=\"441\" height=\"1\"><p><small>Network Statistic</small></p></th><th align=\"center\"><img width=\"441\" height=\"1\"><p><small>Result</small></p></th></tr>\n",
       "<tr><td>Number of CC</td><td>None</td></tr>\n",
       "<tr><td>Average CC Size</td><td>None</td></tr>\n",
       "<tr><td>Five-Number-Summary of CC Sizes</td><td>None</td></tr>\n",
       "<tr><td>Average CC Density</td><td>None</td></tr>\n",
       "<tr><td>Five-Number-Summary of CC Densities</td><td>None</td></tr>\n",
       "</table>\n",
       "\n",
       "## Centrality Statistics\n",
       "---\n",
       "<table>\n",
       "<tr><th align=\"center\"><img width=\"441\" height=\"1\"><p><small>Network Statistic</small></p></th><th align=\"center\"><img width=\"441\" height=\"1\"><p><small>Result</small></p></th></tr>\n",
       "<tr><td>Degree Centrality</td><td>['r17', 'r302', 'r616', 'r654', 'r8', 'r76', 'r58', 'r518', 'r508', 'r84']</td></tr>\n",
       "<tr><td>Betweenness Centrality</td><td>None</td></tr>\n",
       "</table>\n",
       "\n",
       "## Degree Distribution Plot\n",
       "---\n",
       "![image](data/graph_summaries/projections/probs/assets/degree_distribution.jpg)\n",
       "\n",
       "## Edge Weight Distribution Plot\n",
       "---\n",
       "![image](data/graph_summaries/projections/probs/assets/edge_weight_distribution.jpg)\n",
       "\n",
       "## Ccdf Degree Distribution Plot\n",
       "---\n",
       "![image](data/graph_summaries/projections/probs/assets/ccdf_degree_distribution.jpg)\n",
       "\n"
      ],
      "text/plain": [
       "<IPython.core.display.Markdown object>"
      ]
     },
     "metadata": {},
     "output_type": "display_data"
    }
   ],
   "source": [
    "display(Markdown('data/graph_summaries/projections/probs/probs.md'))"
   ]
  },
  {
   "cell_type": "code",
   "execution_count": 11,
   "id": "840728ac",
   "metadata": {},
   "outputs": [
    {
     "data": {
      "text/markdown": [
       "# Generic Summary of Unipartite Graph **Heats**\n",
       "---\n",
       "Created: 22/11/21\n",
       "Computation Time: 146.25sec\n",
       "\n",
       "## Basic Statistics\n",
       "---\n",
       "<table>\n",
       "<tr><th align=\"center\"><img width=\"441\" height=\"1\"><p><small>Network Statistic</small></p></th><th align=\"center\"><img width=\"441\" height=\"1\"><p><small>Result</small></p></th></tr>\n",
       "<tr><td>Number of Nodes</td><td>108748</td></tr>\n",
       "<tr><td>Number of Edges</td><td>11058181</td></tr>\n",
       "<tr><td>Global Density</td><td>0.0018701443365104705</td></tr>\n",
       "<tr><td>Global Diameter</td><td>No Global Diameter (Unconnected Graph)</td></tr>\n",
       "</table>\n",
       "\n",
       "## Degree Statistics\n",
       "---\n",
       "<table>\n",
       "<tr><th align=\"center\"><img width=\"441\" height=\"1\"><p><small>Network Statistic</small></p></th><th align=\"center\"><img width=\"441\" height=\"1\"><p><small>Result</small></p></th></tr>\n",
       "<tr><td>Average Degree</td><td>203.37258616250415</td></tr>\n",
       "<tr><td>Five-Number-Summary Degrees</td><td>[    1.     6.    26.   100. 29649.]</td></tr>\n",
       "</table>\n",
       "\n",
       "## Edge Weight Statistics\n",
       "---\n",
       "<table>\n",
       "<tr><th align=\"center\"><img width=\"441\" height=\"1\"><p><small>Network Statistic</small></p></th><th align=\"center\"><img width=\"441\" height=\"1\"><p><small>Result</small></p></th></tr>\n",
       "<tr><td>Average Edge Weight</td><td>0.0023216712275887655</td></tr>\n",
       "<tr><td>Five-Number-Summary Edge Weights</td><td>[0.00000031 0.00004409 0.00014842 0.0005787  0.5       ]</td></tr>\n",
       "<tr><td>Variance of Edge Weights</td><td>0.0001995303209876125</td></tr>\n",
       "<tr><td>Most Frequent Edge Weight</td><td>0.0023148148148148</td></tr>\n",
       "</table>\n",
       "\n",
       "## Clustering Statistics\n",
       "---\n",
       "<table>\n",
       "<tr><th align=\"center\"><img width=\"441\" height=\"1\"><p><small>Network Statistic</small></p></th><th align=\"center\"><img width=\"441\" height=\"1\"><p><small>Result</small></p></th></tr>\n",
       "<tr><td>Average LCC</td><td>None</td></tr>\n",
       "<tr><td>Five-Number-Summary LCC</td><td>None</td></tr>\n",
       "</table>\n",
       "\n",
       "## Connected Components Statistics\n",
       "---\n",
       "<table>\n",
       "<tr><th align=\"center\"><img width=\"441\" height=\"1\"><p><small>Network Statistic</small></p></th><th align=\"center\"><img width=\"441\" height=\"1\"><p><small>Result</small></p></th></tr>\n",
       "<tr><td>Number of CC</td><td>2948</td></tr>\n",
       "<tr><td>Average CC Size</td><td>36.888738127544094</td></tr>\n",
       "<tr><td>Five-Number-Summary of CC Sizes</td><td>[    2.     2.     2.     3. 99907.]</td></tr>\n",
       "<tr><td>Average CC Density</td><td>0.9750485618768777</td></tr>\n",
       "<tr><td>Five-Number-Summary of CC Densities</td><td>[0.00221309 1.         1.         1.         1.        ]</td></tr>\n",
       "</table>\n",
       "\n",
       "## Centrality Statistics\n",
       "---\n",
       "<table>\n",
       "<tr><th align=\"center\"><img width=\"441\" height=\"1\"><p><small>Network Statistic</small></p></th><th align=\"center\"><img width=\"441\" height=\"1\"><p><small>Result</small></p></th></tr>\n",
       "<tr><td>Degree Centrality</td><td>['r17', 'r302', 'r616', 'r654', 'r8', 'r76', 'r58', 'r518', 'r508', 'r84']</td></tr>\n",
       "<tr><td>Betweenness Centrality</td><td>None</td></tr>\n",
       "</table>\n",
       "\n",
       "## Degree Distribution Plot\n",
       "---\n",
       "![image](data/graph_summaries/projections/heats/assets/degree_distribution.jpg)\n",
       "\n",
       "## Edge Weight Distribution Plot\n",
       "---\n",
       "![image](data/graph_summaries/projections/heats/assets/edge_weight_distribution.jpg)\n",
       "\n",
       "## Ccdf Degree Distribution Plot\n",
       "---\n",
       "![image](data/graph_summaries/projections/heats/assets/ccdf_degree_distribution.jpg)\n",
       "\n"
      ],
      "text/plain": [
       "<IPython.core.display.Markdown object>"
      ]
     },
     "metadata": {},
     "output_type": "display_data"
    }
   ],
   "source": [
    "display(Markdown('data/graph_summaries/projections/heats/heats.md'))"
   ]
  },
  {
   "cell_type": "markdown",
   "id": "342f1535",
   "metadata": {},
   "source": [
    "<h1 style=\"color:#003399;\">Backboned projections</h1>\n",
    "\n",
    "---"
   ]
  },
  {
   "cell_type": "markdown",
   "id": "21dcc10e",
   "metadata": {},
   "source": [
    "<h2 style=\"color:#000099;\">Simple weight</h2>"
   ]
  },
  {
   "cell_type": "code",
   "execution_count": 2,
   "id": "5c3aea27",
   "metadata": {},
   "outputs": [
    {
     "data": {
      "text/markdown": [
       "# Generic Summary of Unipartite Graph **Simple_Weight/Disparity_Filter**\n",
       "---\n",
       "Created: 22/11/21\n",
       "Computation Time: 24.37sec\n",
       "\n",
       "## Basic Statistics\n",
       "---\n",
       "<table>\n",
       "<tr><th align=\"center\"><img width=\"441\" height=\"1\"><p><small>Network Statistic</small></p></th><th align=\"center\"><img width=\"441\" height=\"1\"><p><small>Result</small></p></th></tr>\n",
       "<tr><td>Number of Nodes</td><td>9795</td></tr>\n",
       "<tr><td>Number of Edges</td><td>345442</td></tr>\n",
       "<tr><td>Global Density</td><td>0.0072017923486194365</td></tr>\n",
       "<tr><td>Global Diameter</td><td>No Global Diameter (Unconnected Graph)</td></tr>\n",
       "</table>\n",
       "\n",
       "## Degree Statistics\n",
       "---\n",
       "<table>\n",
       "<tr><th align=\"center\"><img width=\"441\" height=\"1\"><p><small>Network Statistic</small></p></th><th align=\"center\"><img width=\"441\" height=\"1\"><p><small>Result</small></p></th></tr>\n",
       "<tr><td>Average Degree</td><td>70.53435426237877</td></tr>\n",
       "<tr><td>Five-Number-Summary Degrees</td><td>[   1.    2.    9.   40. 4495.]</td></tr>\n",
       "</table>\n",
       "\n",
       "## Edge Weight Statistics\n",
       "---\n",
       "<table>\n",
       "<tr><th align=\"center\"><img width=\"441\" height=\"1\"><p><small>Network Statistic</small></p></th><th align=\"center\"><img width=\"441\" height=\"1\"><p><small>Result</small></p></th></tr>\n",
       "<tr><td>Average Edge Weight</td><td>10.676374036741334</td></tr>\n",
       "<tr><td>Five-Number-Summary Edge Weights</td><td>[  4.   5.   7.  11. 954.]</td></tr>\n",
       "<tr><td>Variance of Edge Weights</td><td>170.6202273002804</td></tr>\n",
       "<tr><td>Most Frequent Edge Weight</td><td>5</td></tr>\n",
       "</table>\n",
       "\n",
       "## Clustering Statistics\n",
       "---\n",
       "<table>\n",
       "<tr><th align=\"center\"><img width=\"441\" height=\"1\"><p><small>Network Statistic</small></p></th><th align=\"center\"><img width=\"441\" height=\"1\"><p><small>Result</small></p></th></tr>\n",
       "<tr><td>Average LCC</td><td>None</td></tr>\n",
       "<tr><td>Five-Number-Summary LCC</td><td>None</td></tr>\n",
       "</table>\n",
       "\n",
       "## Connected Components Statistics\n",
       "---\n",
       "<table>\n",
       "<tr><th align=\"center\"><img width=\"441\" height=\"1\"><p><small>Network Statistic</small></p></th><th align=\"center\"><img width=\"441\" height=\"1\"><p><small>Result</small></p></th></tr>\n",
       "<tr><td>Number of CC</td><td>216</td></tr>\n",
       "<tr><td>Average CC Size</td><td>45.34722222222222</td></tr>\n",
       "<tr><td>Five-Number-Summary of CC Sizes</td><td>[   2.    2.    2.    3. 9084.]</td></tr>\n",
       "<tr><td>Average CC Density</td><td>0.9171571289921566</td></tr>\n",
       "<tr><td>Five-Number-Summary of CC Densities</td><td>[0.00834277 1.         1.         1.         1.        ]</td></tr>\n",
       "</table>\n",
       "\n",
       "## Centrality Statistics\n",
       "---\n",
       "<table>\n",
       "<tr><th align=\"center\"><img width=\"441\" height=\"1\"><p><small>Network Statistic</small></p></th><th align=\"center\"><img width=\"441\" height=\"1\"><p><small>Result</small></p></th></tr>\n",
       "<tr><td>Degree Centrality</td><td>['r17', 'r616', 'r302', 'r654', 'r58', 'r8', 'r518', 'r542', 'r15', 'r76']</td></tr>\n",
       "<tr><td>Betweenness Centrality</td><td>None</td></tr>\n",
       "</table>\n",
       "\n",
       "## Degree Distribution Plot\n",
       "---\n",
       "![image](data/graph_summaries/backboned_projections/simple_weight/disparity_filter/assets/degree_distribution.jpg)\n",
       "\n",
       "## Edge Weight Distribution Plot\n",
       "---\n",
       "![image](data/graph_summaries/backboned_projections/simple_weight/disparity_filter/assets/edge_weight_distribution.jpg)\n",
       "\n",
       "## Ccdf Degree Distribution Plot\n",
       "---\n",
       "![image](data/graph_summaries/backboned_projections/simple_weight/disparity_filter/assets/ccdf_degree_distribution.jpg)\n",
       "\n"
      ],
      "text/plain": [
       "<IPython.core.display.Markdown object>"
      ]
     },
     "metadata": {},
     "output_type": "display_data"
    }
   ],
   "source": [
    "display(Markdown('data/graph_summaries/backboned_projections/simple_weight/disparity_filter/disparity_filter_0.95.md'))"
   ]
  },
  {
   "cell_type": "code",
   "execution_count": null,
   "id": "e9129f5e",
   "metadata": {},
   "outputs": [],
   "source": [
    "display(Markdown('data/graph_summaries/backboned_projections/simple_weight/noise_corrected/noise_corrected_0.95.md'))"
   ]
  },
  {
   "cell_type": "markdown",
   "id": "70be04a0",
   "metadata": {},
   "source": [
    "<h2 style=\"color:#000099;\">Jaccard</h2>"
   ]
  },
  {
   "cell_type": "code",
   "execution_count": null,
   "id": "0f3cc9ae",
   "metadata": {},
   "outputs": [],
   "source": [
    "display(Markdown('data/graph_summaries/backboned_projections/jaccard/disparity_filter/disparity_filter_0.95.md'))"
   ]
  },
  {
   "cell_type": "code",
   "execution_count": null,
   "id": "3f4ff671",
   "metadata": {},
   "outputs": [],
   "source": [
    "display(Markdown('data/graph_summaries/backboned_projections/jaccard/noise_corrected/noise_corrected_0.95.md'))"
   ]
  },
  {
   "cell_type": "markdown",
   "id": "b2d089be",
   "metadata": {},
   "source": [
    "<h2 style=\"color:#000099;\">Hyperbolic</h2>"
   ]
  },
  {
   "cell_type": "code",
   "execution_count": null,
   "id": "c48aeab0",
   "metadata": {},
   "outputs": [],
   "source": [
    "display(Markdown('data/graph_summaries/backboned_projections/hyperbolic/disparity_filter/disparity_filter_0.95.md'))"
   ]
  },
  {
   "cell_type": "code",
   "execution_count": null,
   "id": "3a2d0742",
   "metadata": {},
   "outputs": [],
   "source": [
    "display(Markdown('data/graph_summaries/backboned_projections/hyperbolic/noise_corrected/noise_corrected_0.95.md'))"
   ]
  },
  {
   "cell_type": "markdown",
   "id": "d5e531e3",
   "metadata": {},
   "source": [
    "<h2 style=\"color:#000099;\">Probs</h2>"
   ]
  },
  {
   "cell_type": "code",
   "execution_count": null,
   "id": "ee886fd8",
   "metadata": {},
   "outputs": [],
   "source": [
    "display(Markdown('data/graph_summaries/backboned_projections/probs/disparity_filter/disparity_filter_0.95.md'))"
   ]
  },
  {
   "cell_type": "code",
   "execution_count": null,
   "id": "9541e565",
   "metadata": {},
   "outputs": [],
   "source": [
    "display(Markdown('data/graph_summaries/backboned_projections/probs/noise_corrected/noise_corrected_0.95.md'))"
   ]
  },
  {
   "cell_type": "markdown",
   "id": "e9656a6e",
   "metadata": {},
   "source": [
    "<h2 style=\"color:#000099;\">Heats</h2>"
   ]
  },
  {
   "cell_type": "code",
   "execution_count": null,
   "id": "57d0cd85",
   "metadata": {},
   "outputs": [],
   "source": [
    "display(Markdown('data/graph_summaries/backboned_projections/heats/disparity_filter/disparity_filter_0.95.md'))"
   ]
  },
  {
   "cell_type": "code",
   "execution_count": null,
   "id": "b8271174",
   "metadata": {},
   "outputs": [],
   "source": [
    "display(Markdown('data/graph_summaries/backboned_projections/heats/noise_corrected/noise_corrected_0.95.md'))"
   ]
  },
  {
   "cell_type": "markdown",
   "id": "68ec53ed",
   "metadata": {},
   "source": [
    "---"
   ]
  }
 ],
 "metadata": {
  "kernelspec": {
   "display_name": "Python 3 (ipykernel)",
   "language": "python",
   "name": "python3"
  },
  "language_info": {
   "codemirror_mode": {
    "name": "ipython",
    "version": 3
   },
   "file_extension": ".py",
   "mimetype": "text/x-python",
   "name": "python",
   "nbconvert_exporter": "python",
   "pygments_lexer": "ipython3",
   "version": "3.8.11"
  }
 },
 "nbformat": 4,
 "nbformat_minor": 5
}
