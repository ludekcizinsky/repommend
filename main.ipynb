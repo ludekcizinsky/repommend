{
 "cells": [
  {
   "cell_type": "markdown",
   "id": "5e69046f",
   "metadata": {
    "cell_id": "00000-bf007d59-829d-470b-97f9-9cf7555e0f34",
    "deepnote_cell_type": "markdown",
    "tags": []
   },
   "source": [
    "# Network Analysis Project \n",
    "#### Building an Recommendation System from Bipartite Networks\n",
    "---\n",
    "\n",
    "*Ludek Cizinský (luci@itu.dk)*, *Louis Brandt (locb@itu.dk)*, *Lukas Rasocha (lukr@itu.dk)*, *Mika Senghaas (jsen@itu.dk)*, *Jacob Victor Enggaard Haahr (javh@itu.dk)*\n",
    "\n",
    "Course Manager: *Michele Coscia*\n",
    "\n",
    "Deadline: *22nd Decemeber 2021*\n",
    "\n",
    "Last Modified: *10th November 2021*"
   ]
  },
  {
   "cell_type": "markdown",
   "id": "40a3f097",
   "metadata": {
    "cell_id": "00001-fdb6c19e-a11d-4679-944e-fd5ef55563fb",
    "deepnote_cell_type": "markdown",
    "tags": []
   },
   "source": [
    "## Assignment Description\n",
    "---\n",
    "You will have to deliver your project at the end of the course (deadline to be determined). You have to hand in a presentation (in PDF or Power Point format). It is mandatory to include the following information:\n",
    "\n",
    "- Basic network description of your data (what type of network it is, what does it represent, is it real or synthetically generated, etc). In practice, the result of project phase #1 (finding data).\n",
    "- Basic network statistics of your data (number of nodes, edges, clustering, degree distribution, etc). In practice, the result of project phase #2 (exploratory data analysis).\n",
    "- A clear statement of your research question, the result of project phase #3.\n",
    "- The analysis, results, and interpretation that allow you to answer your research question, the result of project phase #4.\n",
    "\n",
    "You're free to include this in the order you prefer and to add any additional information you deem necessary, but these are the mandatory components.\n",
    "\n",
    "The format of the oral is as follows: the students make a joint presentation followed by group questions. Subsequently the students are having individual examination with additional questions while the rest of the group is outside the room. The length of the oral will be 15 minutes X number of group members plus one -- for instance, a group of 6 will have 105 minutes ((6+1)*15). Which means you have 15 minutes of group exam plus 15 minutes of individual exam each."
   ]
  },
  {
   "cell_type": "markdown",
   "id": "a4373606",
   "metadata": {
    "cell_id": "00000-e216af63-2d3d-472e-b191-f7e7b641052e",
    "deepnote_cell_type": "markdown"
   },
   "source": [
    "## Environment Setup\n",
    "---\n",
    "This project uses Python libraries that are essential for the performed analysis. Make sure to have the dependencies listed in `requirements.txt` installed locally using the *Python Package Manager* `pip`. If installed, running the next code cell should install all relevant dependencies. Check documentation via the provided links:\n",
    "\n",
    "- [*NetworkX* Documentation](https://networkx.org/documentation/stable/reference/index.html)\n",
    "\n",
    "- [*NumPy* Quickstart](https://numpy.org/doc/stable/user/quickstart.html)\n",
    "- [*Matplotlib* Documentation](https://matplotlib.org/stable/tutorials/introductory/usage.html)\n",
    "- [*Pandas* Documentation](https://pandas.pydata.org/docs/)"
   ]
  },
  {
   "cell_type": "markdown",
   "id": "27dd40e5",
   "metadata": {
    "cell_id": "00003-b4c91587-23d2-472b-8832-f6b1f8959a69",
    "deepnote_cell_type": "markdown",
    "tags": []
   },
   "source": [
    "### Libraries"
   ]
  },
  {
   "cell_type": "code",
   "execution_count": 1,
   "id": "d8f350cd",
   "metadata": {
    "cell_id": "00003-14aee654-90af-4fe0-bac9-74243ece0430",
    "deepnote_cell_type": "code",
    "deepnote_to_be_reexecuted": false,
    "execution_millis": 2822,
    "execution_start": 1633939925517,
    "source_hash": "6b6b1295",
    "tags": []
   },
   "outputs": [],
   "source": [
    "%%capture\n",
    "!pip install -r requirements.txt"
   ]
  },
  {
   "cell_type": "code",
   "execution_count": 1,
   "id": "3764f66c",
   "metadata": {
    "cell_id": "00001-fee89a0e-b2a2-47b5-9f57-9e9b5bc39684",
    "deepnote_cell_type": "code",
    "deepnote_to_be_reexecuted": false,
    "execution_millis": 1476,
    "execution_start": 1633939928340,
    "source_hash": "a4893cee"
   },
   "outputs": [],
   "source": [
    "# network representation and algorithms\n",
    "import networkx as nx\n",
    "from networkx.algorithms import bipartite\n",
    "from pyvis.network import Network\n",
    "from networkx import linalg as nxla\n",
    "import powerlaw as pl                                            # powerlaw fits for degree distribution\n",
    "from IPython.display import display, Image, Markdown             # display images and markdown in jupyter\n",
    "\n",
    "# general data science libraries\n",
    "from matplotlib import pyplot as plt                            # basic plotting\n",
    "import seaborn as sns                                           # advanced plotting\n",
    "import numpy as np                                              # for representing n-dimensional arrays\n",
    "import scipy as sp                                              # numerical computation\n",
    "import pandas as pd                                             # dataframes\n",
    "\n",
    "# python standard library\n",
    "from time import time                                           # used for timing execution\n",
    "from datetime import date, datetime                             # get current data and time\n",
    "import json                                                     # read/ write json\n",
    "import re                                                       # regex search \n",
    "import os                                                       # os operations\n",
    "import random                                                   # randomness\n",
    "from collections import Counter                                 # efficient counting\n",
    "import contextlib\n",
    "\n",
    "# custom imports\n",
    "from cscripts import metrics\n",
    "from cscripts import plotting\n",
    "from cscripts import summarise\n",
    "from cscripts import backboning # michele\n",
    "#from cscripts import github_api\n",
    "from cscripts import projections"
   ]
  },
  {
   "cell_type": "markdown",
   "id": "34da8095",
   "metadata": {},
   "source": [
    "### Set global style of plots\n",
    "\n",
    "Below you can specify global style for all plots or any other setups related to plots visualization."
   ]
  },
  {
   "cell_type": "code",
   "execution_count": 2,
   "id": "86e9b534",
   "metadata": {},
   "outputs": [],
   "source": [
    "sns.set_style(\"darkgrid\")\n",
    "sns.set(rc={\"xtick.bottom\" : True, \"ytick.left\" : True})"
   ]
  },
  {
   "cell_type": "markdown",
   "id": "222c7261",
   "metadata": {
    "cell_id": "00004-91fbf149-54bb-4103-8781-05f116ed2e73",
    "deepnote_cell_type": "markdown",
    "tags": []
   },
   "source": [
    "### Flags\n",
    "\n",
    "Flags are used to control the run flow of the notebook when executed at once. This is useful, to prevent operations that should only produce a result once, from running multiple times. "
   ]
  },
  {
   "cell_type": "code",
   "execution_count": 48,
   "id": "85218623",
   "metadata": {
    "cell_id": "00004-53bd492d-9bcd-4b38-aa38-b0a5ded0f905",
    "deepnote_cell_type": "code",
    "deepnote_to_be_reexecuted": false,
    "execution_millis": 5,
    "execution_start": 1633939929824,
    "source_hash": "76037a73",
    "tags": []
   },
   "outputs": [],
   "source": [
    "# section flags\n",
    "LOAD_DATA = True # Loads raw data for initial inspection\n",
    "TRANSFORM_DATA = False # Transforms raw data into more suitable format (Load data needs to be on as well)\n",
    "COMPUTE_PROJECTIONS = False\n",
    "GENERATE_SUMMARY_PROJ = False # Summary related to projections only\n",
    "GET_ONE_CC = True # Do you want to get one connected component for each projection?\n",
    "DO_BACKBONING = False\n",
    "GENERATE_SUMMARY_PROJ_BACKB = False # Summary related to projected AND backboned graph\n",
    "SAVE_FIG = False # Do you want to save all generated figures?\n",
    "RANDOM_SAMPLE = False"
   ]
  },
  {
   "cell_type": "markdown",
   "id": "50189d40",
   "metadata": {
    "cell_id": "00008-38436e51-9336-4e56-98ee-f9499a210276",
    "deepnote_cell_type": "markdown",
    "tags": []
   },
   "source": [
    "### Constants\n",
    "\n"
   ]
  },
  {
   "cell_type": "code",
   "execution_count": 23,
   "id": "41078b0c",
   "metadata": {
    "cell_id": "00002-22b35ef9-6971-4ab9-a837-1ac0c1f82e62",
    "deepnote_cell_type": "code",
    "deepnote_to_be_reexecuted": false,
    "execution_millis": 1,
    "execution_start": 1633939929836,
    "source_hash": "7708a6"
   },
   "outputs": [],
   "source": [
    "PATH_TO = {}\n",
    "PATH_TO['data'] = {}\n",
    "PATH_TO['data']['raw'] = 'data/raw'\n",
    "PATH_TO['data']['transformed'] = 'data/transformed'\n",
    "PATH_TO['data']['projections'] = 'data/projections'\n",
    "PATH_TO['data']['backboning'] = 'data/backboning'\n",
    "PATH_TO['data']['figures'] = 'data/figures'\n",
    "PATH_TO['data']['summaries'] = 'data/graph_summaries'\n",
    "PATH_TO['data']['metadata'] = 'data/metadata'"
   ]
  },
  {
   "cell_type": "markdown",
   "id": "afd073c0",
   "metadata": {
    "cell_id": "00010-3d5d8dac-f82c-4a86-ba1d-5b84a95d7552",
    "deepnote_cell_type": "markdown",
    "tags": []
   },
   "source": [
    "### Folder Structure\n",
    "\n",
    "Create relevant folders to read from and write to, if not yet existent.\n",
    "An easy way to check if all the folders have been created is to use bash, go to the project folder and type \"tree\" it will give you an overview of the lists, check the readme for the folderstructure."
   ]
  },
  {
   "cell_type": "code",
   "execution_count": 6,
   "id": "c3703191",
   "metadata": {
    "cell_id": "00011-08e3a7d1-6b4d-4695-a69d-33f4b46e040e",
    "deepnote_cell_type": "code",
    "deepnote_to_be_reexecuted": false,
    "execution_millis": 484498,
    "execution_start": 1633939929852,
    "source_hash": "84ce9148",
    "tags": []
   },
   "outputs": [
    {
     "name": "stdout",
     "output_type": "stream",
     "text": [
      "Already exists.\n",
      "Already exists.\n",
      "Already exists.\n",
      "Already exists.\n",
      "Already exists.\n",
      "Already exists.\n",
      "Already exists.\n"
     ]
    }
   ],
   "source": [
    "# iterate over path_to dict\n",
    "for path in PATH_TO['data'].values():\n",
    "    os.makedirs(path) if not os.path.exists(path) else print('Already exists.')"
   ]
  },
  {
   "cell_type": "markdown",
   "id": "79375bb4",
   "metadata": {
    "cell_id": "00003-ad4ff0e0-c3b4-4f28-9e82-37ff1be70da7",
    "deepnote_cell_type": "markdown"
   },
   "source": [
    "## #01 Loading and Inspecting Raw Data\n",
    "---"
   ]
  },
  {
   "cell_type": "code",
   "execution_count": 7,
   "id": "09fa387e",
   "metadata": {
    "cell_id": "00005-b9704f80-1b37-4859-8f1b-fec63d62a33a",
    "deepnote_cell_type": "code",
    "deepnote_to_be_reexecuted": false,
    "execution_millis": 236,
    "execution_start": 1633939929892,
    "source_hash": "ec6986c"
   },
   "outputs": [],
   "source": [
    "if LOAD_DATA:\n",
    "    data = pd.read_csv(f\"{PATH_TO['data']['raw']}/data.txt\", delimiter=\":\", names=[\"user_id\", \"repo_id\"])\n",
    "    repos = pd.read_csv(f\"{PATH_TO['data']['raw']}/repos.txt\", delimiter=\":\", names=[\"repo_id\", \"meta_info\"])\n",
    "    lang = pd.read_csv(f\"{PATH_TO['data']['raw']}/lang.txt\", delimiter=\":\", names=[\"repo_id\", \"meta_info\"])"
   ]
  },
  {
   "cell_type": "markdown",
   "id": "0cf4ef24",
   "metadata": {
    "cell_id": "00012-a492c094-5e5a-4281-83a9-756fda0ba4da",
    "deepnote_cell_type": "markdown",
    "tags": []
   },
   "source": [
    "### `data.txt`\n",
    "\n",
    "This is the main dataset.  Each line is of the format `<user_id>`:`<repo_id>`\n",
    "which represents a user watching a repository.  There are 440,237 records\n",
    "in this file, each a single `user_id` and a single `repository_id` seperated by a colon. This file, thus, represents the bipartite graph of users following repositories as an edge list. The data looks like this:"
   ]
  },
  {
   "cell_type": "code",
   "execution_count": 8,
   "id": "82690c77",
   "metadata": {
    "cell_id": "00012-4ab9f25a-43ff-4672-b4ad-c12ccdfd85a3",
    "deepnote_cell_type": "code",
    "deepnote_to_be_reexecuted": false,
    "execution_millis": 109,
    "execution_start": 1633939930134,
    "source_hash": "5d012fde",
    "tags": []
   },
   "outputs": [
    {
     "name": "stdout",
     "output_type": "stream",
     "text": [
      "Size of data.txt: (440237, 2)\n",
      "Number of Unique Users: 56519\n",
      "Number of Unique Repos: 120867\n"
     ]
    },
    {
     "data": {
      "text/html": [
       "<div>\n",
       "<style scoped>\n",
       "    .dataframe tbody tr th:only-of-type {\n",
       "        vertical-align: middle;\n",
       "    }\n",
       "\n",
       "    .dataframe tbody tr th {\n",
       "        vertical-align: top;\n",
       "    }\n",
       "\n",
       "    .dataframe thead th {\n",
       "        text-align: right;\n",
       "    }\n",
       "</style>\n",
       "<table border=\"1\" class=\"dataframe\">\n",
       "  <thead>\n",
       "    <tr style=\"text-align: right;\">\n",
       "      <th></th>\n",
       "      <th>user_id</th>\n",
       "      <th>repo_id</th>\n",
       "    </tr>\n",
       "  </thead>\n",
       "  <tbody>\n",
       "    <tr>\n",
       "      <th>0</th>\n",
       "      <td>1</td>\n",
       "      <td>1</td>\n",
       "    </tr>\n",
       "    <tr>\n",
       "      <th>1</th>\n",
       "      <td>2</td>\n",
       "      <td>2</td>\n",
       "    </tr>\n",
       "    <tr>\n",
       "      <th>2</th>\n",
       "      <td>3</td>\n",
       "      <td>3</td>\n",
       "    </tr>\n",
       "    <tr>\n",
       "      <th>3</th>\n",
       "      <td>4</td>\n",
       "      <td>4</td>\n",
       "    </tr>\n",
       "    <tr>\n",
       "      <th>4</th>\n",
       "      <td>5</td>\n",
       "      <td>5</td>\n",
       "    </tr>\n",
       "  </tbody>\n",
       "</table>\n",
       "</div>"
      ],
      "text/plain": [
       "   user_id  repo_id\n",
       "0        1        1\n",
       "1        2        2\n",
       "2        3        3\n",
       "3        4        4\n",
       "4        5        5"
      ]
     },
     "execution_count": 8,
     "metadata": {},
     "output_type": "execute_result"
    }
   ],
   "source": [
    "print(f\"Size of data.txt: {data.shape}\")\n",
    "print(f\"Number of Unique Users: {len(np.unique(data['user_id']))}\")\n",
    "print(f\"Number of Unique Repos: {len(np.unique(data['repo_id']))}\")\n",
    "\n",
    "data.head()"
   ]
  },
  {
   "cell_type": "markdown",
   "id": "059711aa",
   "metadata": {
    "cell_id": "00014-9e47b717-6ef6-4113-bead-d2eaaf1e8558",
    "deepnote_cell_type": "markdown",
    "tags": []
   },
   "source": [
    "### `repos.txt`\n",
    "\n",
    "This file lists out the 120,867 unique repositories using their id (`repo_id`) that are used in the `data.txt`\n",
    "set, providing the repository name, date it was created and (if applicable)\n",
    "the repository id that it was forked off of.  The data looks like this:"
   ]
  },
  {
   "cell_type": "code",
   "execution_count": 9,
   "id": "a8cc803b",
   "metadata": {
    "cell_id": "00015-d3554273-2334-404d-bf64-ad204ac9d8b3",
    "deepnote_cell_type": "code",
    "deepnote_to_be_reexecuted": false,
    "execution_millis": 410,
    "execution_start": 1633939930220,
    "source_hash": "5be93304",
    "tags": []
   },
   "outputs": [
    {
     "name": "stdout",
     "output_type": "stream",
     "text": [
      "Size of repo.txt: (120867, 2)\n",
      "ID's of data.txt and repos.txt match: True\n",
      "No. of Repos with forking info: 38954\n"
     ]
    },
    {
     "data": {
      "text/html": [
       "<div>\n",
       "<style scoped>\n",
       "    .dataframe tbody tr th:only-of-type {\n",
       "        vertical-align: middle;\n",
       "    }\n",
       "\n",
       "    .dataframe tbody tr th {\n",
       "        vertical-align: top;\n",
       "    }\n",
       "\n",
       "    .dataframe thead th {\n",
       "        text-align: right;\n",
       "    }\n",
       "</style>\n",
       "<table border=\"1\" class=\"dataframe\">\n",
       "  <thead>\n",
       "    <tr style=\"text-align: right;\">\n",
       "      <th></th>\n",
       "      <th>repo_id</th>\n",
       "      <th>meta_info</th>\n",
       "    </tr>\n",
       "  </thead>\n",
       "  <tbody>\n",
       "    <tr>\n",
       "      <th>0</th>\n",
       "      <td>1</td>\n",
       "      <td>richardc/perl-number-compare,2009-02-26</td>\n",
       "    </tr>\n",
       "    <tr>\n",
       "      <th>1</th>\n",
       "      <td>2</td>\n",
       "      <td>axiomsoftware/axiom-inspector,2009-05-09</td>\n",
       "    </tr>\n",
       "    <tr>\n",
       "      <th>2</th>\n",
       "      <td>3</td>\n",
       "      <td>rails/open_id_authentication,2008-05-29</td>\n",
       "    </tr>\n",
       "    <tr>\n",
       "      <th>3</th>\n",
       "      <td>4</td>\n",
       "      <td>brandonkelly/bk.fieldframe.ee_addon,2009-01-31</td>\n",
       "    </tr>\n",
       "    <tr>\n",
       "      <th>4</th>\n",
       "      <td>5</td>\n",
       "      <td>skinofstars/boxfire,2009-01-31</td>\n",
       "    </tr>\n",
       "  </tbody>\n",
       "</table>\n",
       "</div>"
      ],
      "text/plain": [
       "   repo_id                                       meta_info\n",
       "0        1         richardc/perl-number-compare,2009-02-26\n",
       "1        2        axiomsoftware/axiom-inspector,2009-05-09\n",
       "2        3         rails/open_id_authentication,2008-05-29\n",
       "3        4  brandonkelly/bk.fieldframe.ee_addon,2009-01-31\n",
       "4        5                  skinofstars/boxfire,2009-01-31"
      ]
     },
     "execution_count": 9,
     "metadata": {},
     "output_type": "execute_result"
    }
   ],
   "source": [
    "print(f\"Size of repo.txt: {repos.shape}\")\n",
    "print(f\"ID's of data.txt and repos.txt match: {sum(np.unique(data['repo_id']) == np.unique(repos['repo_id'])) == 120867}\")\n",
    "print(f\"No. of Repos with forking info: {sum(repos['meta_info'].apply(lambda x: len(x.split(','))) == 3)}\")\n",
    "\n",
    "repos.head()"
   ]
  },
  {
   "cell_type": "markdown",
   "id": "e9a2bbc4",
   "metadata": {
    "cell_id": "00016-791b6bc2-f446-4171-a9a7-c6bddca22a5a",
    "deepnote_cell_type": "markdown",
    "tags": []
   },
   "source": [
    "### `lang.txt`\n",
    "\n",
    "The last dataset included is the language breakdown data.  This lists  only contains 73,496 repositories, for which the language data was available. Each line of this file lists the repository id, then a comma delimited list of \n",
    "`<lang>`;`<lines>` entries containing each major language found and the number\n",
    "of lines of code for that language in the project.  The data looks like this:"
   ]
  },
  {
   "cell_type": "code",
   "execution_count": 10,
   "id": "60620080",
   "metadata": {
    "cell_id": "00017-7ce72ccc-d5b0-43b5-bf04-34e1cea31259",
    "deepnote_cell_type": "code",
    "deepnote_to_be_reexecuted": false,
    "execution_millis": 65,
    "execution_start": 1633939930612,
    "source_hash": "5868930",
    "tags": []
   },
   "outputs": [
    {
     "name": "stdout",
     "output_type": "stream",
     "text": [
      "Size of repo.txt: (73496, 2)\n"
     ]
    },
    {
     "data": {
      "text/html": [
       "<div>\n",
       "<style scoped>\n",
       "    .dataframe tbody tr th:only-of-type {\n",
       "        vertical-align: middle;\n",
       "    }\n",
       "\n",
       "    .dataframe tbody tr th {\n",
       "        vertical-align: top;\n",
       "    }\n",
       "\n",
       "    .dataframe thead th {\n",
       "        text-align: right;\n",
       "    }\n",
       "</style>\n",
       "<table border=\"1\" class=\"dataframe\">\n",
       "  <thead>\n",
       "    <tr style=\"text-align: right;\">\n",
       "      <th></th>\n",
       "      <th>repo_id</th>\n",
       "      <th>meta_info</th>\n",
       "    </tr>\n",
       "  </thead>\n",
       "  <tbody>\n",
       "    <tr>\n",
       "      <th>0</th>\n",
       "      <td>8213</td>\n",
       "      <td>JavaScript;802,Ruby;395056</td>\n",
       "    </tr>\n",
       "    <tr>\n",
       "      <th>1</th>\n",
       "      <td>24640</td>\n",
       "      <td>Shell;173,Java;2580,Groovy;26623,JavaScript;13...</td>\n",
       "    </tr>\n",
       "    <tr>\n",
       "      <th>2</th>\n",
       "      <td>41067</td>\n",
       "      <td>Ruby;52570</td>\n",
       "    </tr>\n",
       "    <tr>\n",
       "      <th>3</th>\n",
       "      <td>82135</td>\n",
       "      <td>Ruby;175049</td>\n",
       "    </tr>\n",
       "    <tr>\n",
       "      <th>4</th>\n",
       "      <td>16427</td>\n",
       "      <td>Perl;15008</td>\n",
       "    </tr>\n",
       "  </tbody>\n",
       "</table>\n",
       "</div>"
      ],
      "text/plain": [
       "   repo_id                                          meta_info\n",
       "0     8213                         JavaScript;802,Ruby;395056\n",
       "1    24640  Shell;173,Java;2580,Groovy;26623,JavaScript;13...\n",
       "2    41067                                         Ruby;52570\n",
       "3    82135                                        Ruby;175049\n",
       "4    16427                                         Perl;15008"
      ]
     },
     "execution_count": 10,
     "metadata": {},
     "output_type": "execute_result"
    }
   ],
   "source": [
    "print(f\"Size of repo.txt: {lang.shape}\")\n",
    "\n",
    "lang.head()"
   ]
  },
  {
   "cell_type": "markdown",
   "id": "5198022a",
   "metadata": {
    "cell_id": "00018-0eb44930-382c-46fa-ad1e-b79e26933056",
    "deepnote_cell_type": "markdown",
    "tags": []
   },
   "source": [
    "## #02 Transforming Data\n",
    "---\n",
    "\n",
    "The goal of this section is to get the following two files:\n",
    "- data.txt is a textfile with the edge list containing our bipartite network\n",
    "- metadata.json is a json file containing metadata about each repository within our bipartite network"
   ]
  },
  {
   "cell_type": "markdown",
   "id": "a956f520",
   "metadata": {
    "cell_id": "00006-43286825-c940-40cf-8f2d-4eb121e22cab",
    "deepnote_cell_type": "markdown"
   },
   "source": [
    "###  Adding Class to Nodes in Edge List \n",
    "\n",
    "In the edge list `data.txt` the edges connecting a node of type *User* (from now referred to as $U$) to a node of type *Repository* (from now referred to as $R$) cannot be differentiated on each row. (e.g. 1:1 -> we need to denote that one on the left belongs to user and the other 1 to repository) To read in the graph object correctly at a later point, we therefore add correct labeling into that dataframe by adding `u` to user ids and `r` to repo ids."
   ]
  },
  {
   "cell_type": "code",
   "execution_count": 11,
   "id": "2386550b",
   "metadata": {
    "cell_id": "00007-da5fbbdc-c809-498b-93a8-0b4fdccd65a0",
    "deepnote_cell_type": "code",
    "deepnote_to_be_reexecuted": false,
    "execution_millis": 0,
    "execution_start": 1633939930653,
    "source_hash": "664ecae9"
   },
   "outputs": [],
   "source": [
    "if TRANSFORM_DATA:\n",
    "    data[\"user_id\"] = data[\"user_id\"].apply(lambda x: \"u\" + str(x))\n",
    "    data[\"repo_id\"] = data[\"repo_id\"].apply(lambda x: \"r\" + str(x))"
   ]
  },
  {
   "cell_type": "markdown",
   "id": "11e4a275",
   "metadata": {
    "cell_id": "00008-237c3979-38e5-48ec-9e31-58d20b850517",
    "deepnote_cell_type": "markdown"
   },
   "source": [
    "### Create Metadata\n",
    "\n",
    "Here we combine `repos.txt` and `lang.txt` into one json file where keys are `repo ids` and values are corresponding `metadata`. Note that `repos.txt` should have info about all repos in our network, however `lang.txt` has only info about a subset of repos."
   ]
  },
  {
   "cell_type": "code",
   "execution_count": 12,
   "id": "1d61fcb2",
   "metadata": {
    "cell_id": "00009-385e0618-75a4-475e-a7b1-e6239c11a736",
    "deepnote_cell_type": "code",
    "deepnote_to_be_reexecuted": false,
    "execution_millis": 484481,
    "execution_start": 1633939930653,
    "source_hash": "7d10674f"
   },
   "outputs": [],
   "source": [
    "if TRANSFORM_DATA:\n",
    "    # save repo metadata in dictionary\n",
    "    metadata = {}\n",
    "    repo_lang_mismatches = [] # Includes IDs of repos present in lang.txt but not in repos.txt\n",
    "\n",
    "    # save metadata from repos.txt\n",
    "    for i in range(len(repos)):\n",
    "        repo_id, meta_info = repos.iloc[i]\n",
    "\n",
    "        # parse the meta info\n",
    "        if len(meta_info.split(',')) == 2:\n",
    "            repo_name, creation_date, forked_from_id = meta_info.split(',') + [None]\n",
    "        else:\n",
    "            repo_name, creation_date, forked_from_id = meta_info.split(',')\n",
    "\n",
    "        # save to dict\n",
    "        metadata[f\"r{repo_id}\"] = {\n",
    "            \"repo_name\": repo_name,\n",
    "            \"creation_date\": creation_date,\n",
    "            \"forked_from_id\": forked_from_id\n",
    "        }\n",
    "    \n",
    "    # save metadata from lang.txt\n",
    "    for i in range(len(lang)):\n",
    "        repo_id, lang_info = lang.iloc[i]\n",
    "       \n",
    "        # save it\n",
    "        if f\"r{repo_id}\" in metadata.keys():\n",
    "            metadata[f\"r{repo_id}\"][\"languages\"] = [l.split(';') for l in lang_info.split(',')]\n",
    "        \n",
    "        # It means that there is a repository in lang.txt which is not present in repos.txt\n",
    "        else:\n",
    "            repo_lang_mismatches.append(repo_id)"
   ]
  },
  {
   "cell_type": "markdown",
   "id": "25698e35",
   "metadata": {
    "cell_id": "00011-10ebb5ab-5813-42c7-b666-8f2752632fb7",
    "deepnote_cell_type": "markdown"
   },
   "source": [
    "### Save Transformed Files\n",
    "\n",
    "For faster access later, the following code cell saves the transformed network data and meta data into the directory `data/transformed`. "
   ]
  },
  {
   "cell_type": "code",
   "execution_count": 13,
   "id": "9b18c9f3",
   "metadata": {
    "cell_id": "00012-9e2349d8-fd1b-495b-bfdf-0d2b8455fca7",
    "deepnote_cell_type": "code",
    "deepnote_to_be_reexecuted": false,
    "execution_millis": 484482,
    "execution_start": 1633939930655,
    "source_hash": "382b4fa2"
   },
   "outputs": [],
   "source": [
    "if TRANSFORM_DATA:\n",
    "    # save edge list\n",
    "    data.to_csv(f\"{PATH_TO['data']['transformed']}/data.txt\", header=False, index=False)\n",
    "    \n",
    "    # Save mismatches\n",
    "    with open(f\"{PATH_TO['data']['transformed']}/mismatches.csv\", \"w\") as fp:\n",
    "        fp.write(\",\".join([str(repoid) for repoid in repo_lang_mismatches]))\n",
    "\n",
    "    # save metadata as json\n",
    "    with open(f\"{PATH_TO['data']['transformed']}/metadata.json\", \"w\") as fp:\n",
    "        json.dump(metadata, fp)"
   ]
  },
  {
   "cell_type": "markdown",
   "id": "0a4cc0f7",
   "metadata": {},
   "source": [
    "## #03 Network Cleaning\n",
    "---"
   ]
  },
  {
   "cell_type": "markdown",
   "id": "ecce9140",
   "metadata": {},
   "source": [
    "### Solve problems with mismatches (repos.txt <> lang.txt)\n",
    "\n",
    "We start by double checking that indeed intersection of set of available repos and set of mismatch repos is empty"
   ]
  },
  {
   "cell_type": "code",
   "execution_count": 14,
   "id": "0a63ba4a",
   "metadata": {},
   "outputs": [
    {
     "data": {
      "text/plain": [
       "True"
      ]
     },
     "execution_count": 14,
     "metadata": {},
     "output_type": "execute_result"
    }
   ],
   "source": [
    "# Load mismatches = repos present in lang.txt but not in repos.txt\n",
    "with open(f\"{PATH_TO['data']['transformed']}/mismatches.csv\", \"r\") as fp:\n",
    "    mismatches = fp.readlines()[0].split(',')\n",
    "\n",
    "# Load all repos present\n",
    "repos = pd.read_csv(f\"{PATH_TO['data']['raw']}/repos.txt\", delimiter=\":\", names=[\"repo_id\", \"meta_info\"])\n",
    "\n",
    "# Double check that indeed intersection of set of available repos and set of mismatch repos is empty\n",
    "len(set(repos[\"repo_id\"]) & set(mismatches)) == 0"
   ]
  },
  {
   "cell_type": "markdown",
   "id": "364cd91a",
   "metadata": {},
   "source": [
    "According to the description repos in `data.txt` should be all present within `repos.txt`. In other words, difference between these two sets should be an empty set. Let's check this."
   ]
  },
  {
   "cell_type": "code",
   "execution_count": 15,
   "id": "d25f3d24",
   "metadata": {},
   "outputs": [
    {
     "data": {
      "text/plain": [
       "True"
      ]
     },
     "execution_count": 15,
     "metadata": {},
     "output_type": "execute_result"
    }
   ],
   "source": [
    "# Load data from data.txt\n",
    "datatxt = pd.read_csv(f\"{PATH_TO['data']['raw']}/data.txt\", delimiter=\":\", names=[\"user_id\", \"repo_id\"])\n",
    "\n",
    "# Check the above mentioned assumption\n",
    "len(set(datatxt[\"repo_id\"]) - set(repos[\"repo_id\"])) == 0"
   ]
  },
  {
   "cell_type": "markdown",
   "id": "46ff23f7",
   "metadata": {},
   "source": [
    "Given the above two tests, we can safely conclude that mismatched **repos can be ignored.**\n",
    "\n",
    "### Solve problems nodes whose edges were randomly removed\n",
    "\n",
    "`Description of the problem:`\n",
    "\n",
    "I found out one important thing which we need to decide about. It is concerned with the stucture of our data. According to this website, the way the dataset was created was:\n",
    "- They retrieved all repo watches from their database (each edge then represents one watch in our network). Github was created back in 2008, therefore back then they “only” had around 0.5 million watches in db\n",
    "- From this set of watches, some of them were held back, i.e., removed from the dataset.\n",
    "- We were then provided a dataset of watches except from those that were withheld and from dataset called test.txt we know which users were impacted by this transformation. In other words, these users (roughly. 5000) have only a subset of their watches.\n",
    "- In total, there is around 56k users, and my question is to you what do we do with the 5k users about which we have incomplete information? (The reason why they withheld the watches is that the challenge of the contest was to predict these withheld watches…)\n",
    "\n",
    "`Proposed solution:`\n",
    "\n",
    "I think that it is reasonable to keep the affected users within the network and argue that we are working with a network which was adjusted by the approach described above, but most importantly, the above approach was random. In other words, the above approach for example did not focus on users which represent hubs. Another argument would be that this way, we do not lose information which we would have lost by dropping affected users."
   ]
  },
  {
   "cell_type": "markdown",
   "id": "df282e23",
   "metadata": {
    "cell_id": "00013-035fa351-f075-4cb1-a9ae-c9a1387d46f0",
    "deepnote_cell_type": "markdown"
   },
   "source": [
    "## #04 Summarise Pre-Processed Bi-Partite Network\n",
    "---\n",
    "\n",
    "After having transformed the raw data in a format that is easily usable to be loaded as a graph object, we load our graph. We are using `networkX` - the standard library in Python for representation, visualisation and computation on graphs. "
   ]
  },
  {
   "cell_type": "code",
   "execution_count": 16,
   "id": "e4d4cfea",
   "metadata": {
    "cell_id": "00014-8dc92a4c-3417-49a8-92f6-cbbbf2c35588",
    "deepnote_cell_type": "code",
    "deepnote_to_be_reexecuted": false,
    "execution_millis": 2153,
    "execution_start": 1633939930702,
    "source_hash": "810161b3"
   },
   "outputs": [],
   "source": [
    "# load graph\n",
    "G = nx.read_edgelist(f\"{PATH_TO['data']['transformed']}/data.txt\", delimiter=\",\", comments='#', create_using=nx.Graph)"
   ]
  },
  {
   "cell_type": "code",
   "execution_count": 17,
   "id": "c8a5af8c",
   "metadata": {
    "cell_id": "00015-eb621fa4-d684-4259-a78f-1208ab2ba26d",
    "deepnote_cell_type": "code",
    "deepnote_to_be_reexecuted": false,
    "execution_millis": 997,
    "execution_start": 1633939932861,
    "source_hash": "5fc5b167"
   },
   "outputs": [],
   "source": [
    "# load metadata\n",
    "with open(f\"{PATH_TO['data']['transformed']}/metadata.json\", \"r\") as fp:\n",
    "    metadata = json.load(fp)\n",
    "\n",
    "# add metadata to graph nodes\n",
    "for repo_id, vals in metadata.items():\n",
    "    to_add = {repo_id: vals}\n",
    "    nx.set_node_attributes(G, to_add, \"metadata\")"
   ]
  },
  {
   "cell_type": "code",
   "execution_count": 18,
   "id": "b2598762",
   "metadata": {
    "cell_id": "00016-8356792f-9c49-4b17-9393-1f09256b5606",
    "deepnote_cell_type": "code",
    "deepnote_to_be_reexecuted": false,
    "execution_millis": 484353,
    "execution_start": 1633939933864,
    "source_hash": "30d7300e"
   },
   "outputs": [
    {
     "data": {
      "text/plain": [
       "{'repo_name': 'axiomsoftware/axiom-inspector',\n",
       " 'creation_date': '2009-05-09',\n",
       " 'forked_from_id': None,\n",
       " 'languages': [['JavaScript', '2940890']]}"
      ]
     },
     "execution_count": 18,
     "metadata": {},
     "output_type": "execute_result"
    }
   ],
   "source": [
    "# Show a random node's attributes\n",
    "G.nodes[\"r2\"][\"metadata\"]"
   ]
  },
  {
   "cell_type": "markdown",
   "id": "cfa20586",
   "metadata": {
    "cell_id": "00032-c0476895-cf1a-4b70-8514-1e5b8b38344e",
    "deepnote_cell_type": "markdown",
    "tags": []
   },
   "source": [
    "### Fundamental information\n",
    "\n",
    "Below, you can find fundamental information about our bi-partite network."
   ]
  },
  {
   "cell_type": "code",
   "execution_count": 19,
   "id": "4e2cd72e",
   "metadata": {
    "cell_id": "00019-68f32ce5-95f3-457e-b358-f64b0b6216c8",
    "deepnote_cell_type": "code",
    "deepnote_to_be_reexecuted": false,
    "execution_millis": 2270,
    "execution_start": 1633939933887,
    "source_hash": "db990c54"
   },
   "outputs": [
    {
     "data": {
      "text/html": [
       "<div>\n",
       "<style scoped>\n",
       "    .dataframe tbody tr th:only-of-type {\n",
       "        vertical-align: middle;\n",
       "    }\n",
       "\n",
       "    .dataframe tbody tr th {\n",
       "        vertical-align: top;\n",
       "    }\n",
       "\n",
       "    .dataframe thead th {\n",
       "        text-align: right;\n",
       "    }\n",
       "</style>\n",
       "<table border=\"1\" class=\"dataframe\">\n",
       "  <thead>\n",
       "    <tr style=\"text-align: right;\">\n",
       "      <th></th>\n",
       "      <th>name</th>\n",
       "      <th>is_bipartite</th>\n",
       "      <th>is_directed</th>\n",
       "      <th>is_weighted</th>\n",
       "      <th>selfloops_#</th>\n",
       "      <th>nodes_#</th>\n",
       "      <th>edges_#</th>\n",
       "      <th>density</th>\n",
       "      <th>number_of_repos</th>\n",
       "      <th>number_of_users</th>\n",
       "    </tr>\n",
       "  </thead>\n",
       "  <tbody>\n",
       "    <tr>\n",
       "      <th>0</th>\n",
       "      <td>Github contest 2009</td>\n",
       "      <td>True</td>\n",
       "      <td>False</td>\n",
       "      <td>False</td>\n",
       "      <td>0</td>\n",
       "      <td>177386</td>\n",
       "      <td>440237</td>\n",
       "      <td>0.000028</td>\n",
       "      <td>120867.0</td>\n",
       "      <td>56519.0</td>\n",
       "    </tr>\n",
       "  </tbody>\n",
       "</table>\n",
       "</div>"
      ],
      "text/plain": [
       "                  name is_bipartite is_directed is_weighted selfloops_#  \\\n",
       "0  Github contest 2009         True       False       False           0   \n",
       "\n",
       "  nodes_# edges_#   density  number_of_repos  number_of_users  \n",
       "0  177386  440237  0.000028         120867.0          56519.0  "
      ]
     },
     "execution_count": 19,
     "metadata": {},
     "output_type": "execute_result"
    }
   ],
   "source": [
    "# Store fundamental properties within pandas DF\n",
    "overview = pd.DataFrame(columns=[\"name\", \"is_bipartite\", \"is_directed\", \"is_weighted\", \"selfloops_#\", \"nodes_#\", \"edges_#\", \"density\"])\n",
    "\n",
    "# save important data to dict\n",
    "G_info = dict()\n",
    "\n",
    "# fundamental stats\n",
    "G_info[\"name\"] = \"Github contest 2009\"\n",
    "G_info[\"number_of_users\"] = len([node for node in G.nodes() if node[0] == 'u'])\n",
    "G_info[\"number_of_repos\"] = len([node for node in G.nodes() if node[0] == 'r'])\n",
    "G_info[\"is_directed\"] = nx.is_directed(G)\n",
    "G_info[\"is_weighted\"] = nx.is_weighted(G)\n",
    "G_info[\"selfloops_#\"] = nx.number_of_selfloops(G)\n",
    "G_info[\"nodes_#\"] = nx.number_of_nodes(G)\n",
    "G_info[\"edges_#\"] = nx.number_of_edges(G)\n",
    "G_info[\"density\"] = nx.density(G)\n",
    "G_info[\"is_bipartite\"] = bool(nx.is_bipartite(G))\n",
    "\n",
    "# add it do the overview\n",
    "overview = overview.append(G_info, ignore_index=True)\n",
    "overview"
   ]
  },
  {
   "cell_type": "markdown",
   "id": "622abf3f",
   "metadata": {
    "cell_id": "00036-39b21e1a-ea2b-4ef4-b205-572b9714d2c8",
    "deepnote_cell_type": "markdown",
    "tags": []
   },
   "source": [
    "### Top 10 repositories\n",
    "\n",
    "Below, we show 10 most popular repositories. Here are the interesting insights:\n",
    "- Each repository is written in Ruby, it is also the leading language in terms number of lines of code\n",
    "- The above perhaps corresponds to the fact that the top repository is rails which is a framework for web development for Ruby developers. Here is a relevant [article](https://syndicode.com/blog/why-is-ruby-still-our-choice-in-2020-2/) about Ruby popularity over time.\n",
    "- In addition, Github is developed using Ruby on Rails, perhaps that is where the popularity comes from. According to [this](https://gitstar-ranking.com/rails) site, Rails ranks 65th as of today.\n",
    "- Looking at other repositories, we can see that they correspond to web-development, e.g. authlogic or cucumber (platform for testing)\n",
    "- *(feel free to add more here)*"
   ]
  },
  {
   "cell_type": "code",
   "execution_count": 20,
   "id": "6f9f2667",
   "metadata": {
    "cell_id": "00037-a4f41736-2948-48ac-874c-cd388e1ab01b",
    "deepnote_cell_type": "code",
    "deepnote_to_be_reexecuted": false,
    "execution_millis": 732,
    "execution_start": 1633939936204,
    "source_hash": "72461587",
    "tags": []
   },
   "outputs": [
    {
     "data": {
      "text/html": [
       "<div>\n",
       "<style scoped>\n",
       "    .dataframe tbody tr th:only-of-type {\n",
       "        vertical-align: middle;\n",
       "    }\n",
       "\n",
       "    .dataframe tbody tr th {\n",
       "        vertical-align: top;\n",
       "    }\n",
       "\n",
       "    .dataframe thead th {\n",
       "        text-align: right;\n",
       "    }\n",
       "</style>\n",
       "<table border=\"1\" class=\"dataframe\">\n",
       "  <thead>\n",
       "    <tr style=\"text-align: right;\">\n",
       "      <th></th>\n",
       "      <th>id</th>\n",
       "      <th>name</th>\n",
       "      <th>degree</th>\n",
       "      <th>technology_stack</th>\n",
       "    </tr>\n",
       "  </thead>\n",
       "  <tbody>\n",
       "    <tr>\n",
       "      <th>0</th>\n",
       "      <td>r17</td>\n",
       "      <td>rails/rails</td>\n",
       "      <td>3675</td>\n",
       "      <td>[[JavaScript, 2438], [Ruby, 5423161]]</td>\n",
       "    </tr>\n",
       "    <tr>\n",
       "      <th>1</th>\n",
       "      <td>r302</td>\n",
       "      <td>technoweenie/restful-authentication</td>\n",
       "      <td>1929</td>\n",
       "      <td>[[Ruby, 140923]]</td>\n",
       "    </tr>\n",
       "    <tr>\n",
       "      <th>2</th>\n",
       "      <td>r654</td>\n",
       "      <td>mislav/will_paginate</td>\n",
       "      <td>1611</td>\n",
       "      <td>[[Ruby, 90684]]</td>\n",
       "    </tr>\n",
       "    <tr>\n",
       "      <th>3</th>\n",
       "      <td>r76</td>\n",
       "      <td>joshuaclayton/blueprint-css</td>\n",
       "      <td>1565</td>\n",
       "      <td>[[Ruby, 32998]]</td>\n",
       "    </tr>\n",
       "    <tr>\n",
       "      <th>4</th>\n",
       "      <td>r616</td>\n",
       "      <td>binarylogic/authlogic</td>\n",
       "      <td>1438</td>\n",
       "      <td>[[Ruby, 236385]]</td>\n",
       "    </tr>\n",
       "    <tr>\n",
       "      <th>5</th>\n",
       "      <td>r58</td>\n",
       "      <td>thoughtbot/paperclip</td>\n",
       "      <td>1362</td>\n",
       "      <td>[[Ruby, 153462]]</td>\n",
       "    </tr>\n",
       "    <tr>\n",
       "      <th>6</th>\n",
       "      <td>r8</td>\n",
       "      <td>aslakhellesoy/cucumber</td>\n",
       "      <td>1159</td>\n",
       "      <td>[[C Sharp, 339], [Java, 355], [Ruby, 319537]]</td>\n",
       "    </tr>\n",
       "    <tr>\n",
       "      <th>7</th>\n",
       "      <td>r866</td>\n",
       "      <td>madrobby/scriptaculous</td>\n",
       "      <td>1136</td>\n",
       "      <td>[[Ruby, 3893], [JavaScript, 40316]]</td>\n",
       "    </tr>\n",
       "    <tr>\n",
       "      <th>8</th>\n",
       "      <td>r84</td>\n",
       "      <td>dchelimsky/rspec</td>\n",
       "      <td>1100</td>\n",
       "      <td>[[Ruby, 726592]]</td>\n",
       "    </tr>\n",
       "    <tr>\n",
       "      <th>9</th>\n",
       "      <td>r29</td>\n",
       "      <td>technoweenie/attachment_fu</td>\n",
       "      <td>1006</td>\n",
       "      <td>[[Ruby, 132960]]</td>\n",
       "    </tr>\n",
       "  </tbody>\n",
       "</table>\n",
       "</div>"
      ],
      "text/plain": [
       "     id                                 name  degree  \\\n",
       "0   r17                          rails/rails    3675   \n",
       "1  r302  technoweenie/restful-authentication    1929   \n",
       "2  r654                 mislav/will_paginate    1611   \n",
       "3   r76          joshuaclayton/blueprint-css    1565   \n",
       "4  r616                binarylogic/authlogic    1438   \n",
       "5   r58                 thoughtbot/paperclip    1362   \n",
       "6    r8               aslakhellesoy/cucumber    1159   \n",
       "7  r866               madrobby/scriptaculous    1136   \n",
       "8   r84                     dchelimsky/rspec    1100   \n",
       "9   r29           technoweenie/attachment_fu    1006   \n",
       "\n",
       "                                technology_stack  \n",
       "0          [[JavaScript, 2438], [Ruby, 5423161]]  \n",
       "1                               [[Ruby, 140923]]  \n",
       "2                                [[Ruby, 90684]]  \n",
       "3                                [[Ruby, 32998]]  \n",
       "4                               [[Ruby, 236385]]  \n",
       "5                               [[Ruby, 153462]]  \n",
       "6  [[C Sharp, 339], [Java, 355], [Ruby, 319537]]  \n",
       "7            [[Ruby, 3893], [JavaScript, 40316]]  \n",
       "8                               [[Ruby, 726592]]  \n",
       "9                               [[Ruby, 132960]]  "
      ]
     },
     "execution_count": 20,
     "metadata": {},
     "output_type": "execute_result"
    }
   ],
   "source": [
    "repos_degree = sorted([(repo, G.degree(repo)) for repo in G.nodes() if repo[0] == 'r'], key=lambda x: x[1], reverse=True)[:10]\n",
    "repo_info = {\n",
    "    \"id\": [repo_tuple[0] for repo_tuple in repos_degree],\n",
    "    \"name\": [G.nodes[repo_tuple[0]][\"metadata\"][\"repo_name\"] for repo_tuple in repos_degree],\n",
    "    \"degree\": [repo_tuple[1] for repo_tuple in repos_degree],\n",
    "    \"technology_stack\": [G.nodes[repo_tuple[0]][\"metadata\"][\"languages\"] for repo_tuple in repos_degree]\n",
    "}\n",
    "top_10_repos = pd.DataFrame(repo_info)\n",
    "top_10_repos"
   ]
  },
  {
   "cell_type": "markdown",
   "id": "3bbf274b",
   "metadata": {},
   "source": [
    "### Most used programming languages (in terms of number of lines of code)\n",
    "\n",
    "Below, we can see most used programming languages in terms of package development. Here are the notes/thoughts about the result below:\n",
    "- we should be aware that this metric can be easily skewed by outliers, i.e., you can have one large repository which will contribute a lot\n",
    "\n",
    "- C, Ruby, C++ as top 3 languages is not a surprise since nowadays C is still one of the most popular programming languages, with regards to Ruby, see the above section\n",
    "- *(feel free to add more)*"
   ]
  },
  {
   "cell_type": "code",
   "execution_count": 24,
   "id": "1dbaeb8f",
   "metadata": {},
   "outputs": [
    {
     "ename": "NameError",
     "evalue": "name 'metadata' is not defined",
     "output_type": "error",
     "traceback": [
      "\u001b[0;31m---------------------------------------------------------------------------\u001b[0m",
      "\u001b[0;31mNameError\u001b[0m                                 Traceback (most recent call last)",
      "\u001b[0;32m<ipython-input-24-3c9eb61083e4>\u001b[0m in \u001b[0;36m<module>\u001b[0;34m\u001b[0m\n\u001b[1;32m      3\u001b[0m \u001b[0;34m\u001b[0m\u001b[0m\n\u001b[1;32m      4\u001b[0m \u001b[0;31m# Fill lang_usage\u001b[0m\u001b[0;34m\u001b[0m\u001b[0;34m\u001b[0m\u001b[0;34m\u001b[0m\u001b[0m\n\u001b[0;32m----> 5\u001b[0;31m \u001b[0;32mfor\u001b[0m \u001b[0minfo\u001b[0m \u001b[0;32min\u001b[0m \u001b[0mmetadata\u001b[0m\u001b[0;34m.\u001b[0m\u001b[0mvalues\u001b[0m\u001b[0;34m(\u001b[0m\u001b[0;34m)\u001b[0m\u001b[0;34m:\u001b[0m\u001b[0;34m\u001b[0m\u001b[0;34m\u001b[0m\u001b[0m\n\u001b[0m\u001b[1;32m      6\u001b[0m     \u001b[0;32mif\u001b[0m \u001b[0;34m\"languages\"\u001b[0m \u001b[0;32min\u001b[0m \u001b[0minfo\u001b[0m\u001b[0;34m:\u001b[0m\u001b[0;34m\u001b[0m\u001b[0;34m\u001b[0m\u001b[0m\n\u001b[1;32m      7\u001b[0m         \u001b[0;32mfor\u001b[0m \u001b[0mlang_info\u001b[0m \u001b[0;32min\u001b[0m \u001b[0minfo\u001b[0m\u001b[0;34m[\u001b[0m\u001b[0;34m\"languages\"\u001b[0m\u001b[0;34m]\u001b[0m\u001b[0;34m:\u001b[0m\u001b[0;34m\u001b[0m\u001b[0;34m\u001b[0m\u001b[0m\n",
      "\u001b[0;31mNameError\u001b[0m: name 'metadata' is not defined"
     ]
    }
   ],
   "source": [
    "# Save the usage in dict such that: key is repo_name and value is number of lines of code\n",
    "lang_usage = dict()\n",
    "\n",
    "# Fill lang_usage\n",
    "for info in metadata.values():\n",
    "    if \"languages\" in info:\n",
    "        for lang_info in info[\"languages\"]:\n",
    "            lang_name, n_lines = lang_info\n",
    "            if lang_name in lang_usage:\n",
    "                lang_usage[lang_name] += int(n_lines)\n",
    "            else:\n",
    "                lang_usage[lang_name] = int(n_lines)"
   ]
  },
  {
   "cell_type": "code",
   "execution_count": 22,
   "id": "07ce66a9",
   "metadata": {},
   "outputs": [],
   "source": [
    "# Prepare the data for plotting\n",
    "# * First fit it to the pd dataframe\n",
    "langs = np.array(list(lang_usage.keys())).reshape(-1, 1)\n",
    "n_lines = np.array(list(lang_usage.values()), dtype=int).reshape(-1, 1)\n",
    "df_lang_usage = pd.DataFrame(np.concatenate((langs, n_lines), axis=1), columns = [\"Lang\", \"# of lines\"])\n",
    "df_lang_usage['# of lines'] = df_lang_usage['# of lines'].astype('int64')\n",
    "\n",
    "# * Second sorted by # of lines in descending order (largest first)\n",
    "sorteddf = df_lang_usage.sort_values([\"# of lines\"], axis = 0, ascending=False)"
   ]
  },
  {
   "cell_type": "code",
   "execution_count": 23,
   "id": "ca7dd10c",
   "metadata": {},
   "outputs": [
    {
     "data": {
      "image/png": "[encoded data removed]",
      "text/plain": [
       "<Figure size 504x432 with 1 Axes>"
      ]
     },
     "metadata": {},
     "output_type": "display_data"
    }
   ],
   "source": [
    "# Setup figure so you can plot inside it\n",
    "fig = plt.figure(figsize=(7, 6)) # create figure object with a (width,height)\n",
    "ax = fig.add_axes([0.17,0.25,0.7, 0.65]) # left, bottom, width, height (range 0 to 1)\n",
    "\n",
    "# Plot the data\n",
    "sns_plot = sns.barplot(x=\"Lang\", y=\"# of lines\", data=sorteddf[:10], ax=ax, palette=\"rocket\");\n",
    "ax.tick_params(axis='x', rotation=90);\n",
    "\n",
    "# Add axis labels\n",
    "ax.set_ylabel('Number of lines of code');\n",
    "ax.set_title(\"Most used programming languages\", weight=\"bold\");\n",
    "\n",
    "# Save plot\n",
    "if SAVE_FIG:\n",
    "    plt.savefig(f\"{PATH_TO['data']['figures']}/most_used_lang.jpg\")"
   ]
  },
  {
   "cell_type": "markdown",
   "id": "fd57e0f8",
   "metadata": {},
   "source": [
    "### Most used programming languages (in terms of occurence within repositories)\n",
    "\n",
    "Below, I would like to examine, how many times each language occured within all repositories. If we know that particular language occurs often within repositories, we will probably have a higher chance of predicting relevant repositories to a repository which is primarily written in that given language."
   ]
  },
  {
   "cell_type": "code",
   "execution_count": null,
   "id": "6fc6d47d",
   "metadata": {},
   "outputs": [],
   "source": [
    "lang_repo_count = Counter()\n",
    "\n",
    "for repo_info in metadata.values():\n",
    "    langs = repo_info.get('languages')\n",
    "    if langs:\n",
    "        \n",
    "        # Compute total lines\n",
    "        total = sum([int(lang[1]) for lang in langs])\n",
    "        \n",
    "        if total > 0:\n",
    "        \n",
    "            # Filter those langs which do no pass certain threshold\n",
    "            langs = list(filter(lambda l: int(l[1])/total > 0.5, langs))\n",
    "\n",
    "            # Add the count\n",
    "            for lang in langs:\n",
    "                l = lang[0]\n",
    "                if l in lang_repo_count:\n",
    "                    lang_repo_count[l] += 1\n",
    "                else:\n",
    "                    lang_repo_count[l] = 1"
   ]
  },
  {
   "cell_type": "code",
   "execution_count": null,
   "id": "4db04515",
   "metadata": {},
   "outputs": [],
   "source": [
    "# Prepare the data for plotting\n",
    "# * First fit it to the pd dataframe\n",
    "langs = np.array(list(lang_repo_count.keys())).reshape(-1, 1)\n",
    "c = np.array(list(lang_repo_count.values()), dtype=int).reshape(-1, 1)\n",
    "df_lang_usage = pd.DataFrame(np.concatenate((langs, c), axis=1), columns = [\"Lang\", \"# of occurences\"])\n",
    "df_lang_usage['# of occurences'] = df_lang_usage['# of occurences'].astype('int64')\n",
    "\n",
    "# * Second sorted by # of lines in descending order (largest first)\n",
    "sorteddf = df_lang_usage.sort_values(\"# of occurences\", axis = 0, ascending=False)\n",
    "sorteddf.head()"
   ]
  },
  {
   "cell_type": "code",
   "execution_count": null,
   "id": "52a8aac0",
   "metadata": {},
   "outputs": [],
   "source": [
    "# Setup figure so you can plot inside it\n",
    "fig = plt.figure(figsize=(8, 6)) # create figure object with a (width,height)\n",
    "ax = fig.add_axes([0.17,0.25,0.7, 0.65]) # left, bottom, width, height (range 0 to 1)\n",
    "\n",
    "# Plot the data\n",
    "sns_plot = sns.barplot(x=\"Lang\", y=\"# of occurences\", data=sorteddf[:10], ax=ax, palette=\"rocket\");\n",
    "ax.tick_params(axis='x', rotation=90);\n",
    "\n",
    "# Add axis labels\n",
    "ax.set_ylabel('Number of occurences');\n",
    "ax.set_title(\"Most used programming languages\", weight=\"bold\");\n",
    "\n",
    "plt.savefig(f\"{PATH_TO['data']['figures']}/most_used_lang_count.jpg\")\n",
    "\n",
    "# Save plot\n",
    "if SAVE_FIG:\n",
    "    plt.savefig(f\"{PATH_TO['data']['figures']}/most_used_lang_count.jpg\")"
   ]
  },
  {
   "cell_type": "markdown",
   "id": "673d644e",
   "metadata": {
    "cell_id": "00036-3d1e473c-b254-45c0-bf0c-3f7a83fbf19f",
    "deepnote_cell_type": "markdown",
    "tags": []
   },
   "source": [
    "### Degree distribution\n",
    "\n",
    "*Disclaimer: The code for this section is adapted from [this source](https://www.networkatlas.eu/exercise.htm?c=6&e=4).*\n",
    "\n",
    "Start with creating a dataframe where one column represents possible degree of nodes, and the other count of nodes which have such degree. In addition, sort it. Do this for both type of nodes.\n",
    "\n",
    "#### Get df for repos"
   ]
  },
  {
   "cell_type": "code",
   "execution_count": 24,
   "id": "3e9d9fe8",
   "metadata": {
    "scrolled": true
   },
   "outputs": [
    {
     "data": {
      "text/html": [
       "<div>\n",
       "<style scoped>\n",
       "    .dataframe tbody tr th:only-of-type {\n",
       "        vertical-align: middle;\n",
       "    }\n",
       "\n",
       "    .dataframe tbody tr th {\n",
       "        vertical-align: top;\n",
       "    }\n",
       "\n",
       "    .dataframe thead th {\n",
       "        text-align: right;\n",
       "    }\n",
       "</style>\n",
       "<table border=\"1\" class=\"dataframe\">\n",
       "  <thead>\n",
       "    <tr style=\"text-align: right;\">\n",
       "      <th></th>\n",
       "      <th>k</th>\n",
       "      <th>count</th>\n",
       "    </tr>\n",
       "  </thead>\n",
       "  <tbody>\n",
       "    <tr>\n",
       "      <th>0</th>\n",
       "      <td>1</td>\n",
       "      <td>83030</td>\n",
       "    </tr>\n",
       "    <tr>\n",
       "      <th>20</th>\n",
       "      <td>2</td>\n",
       "      <td>16108</td>\n",
       "    </tr>\n",
       "    <tr>\n",
       "      <th>15</th>\n",
       "      <td>3</td>\n",
       "      <td>6475</td>\n",
       "    </tr>\n",
       "    <tr>\n",
       "      <th>1</th>\n",
       "      <td>4</td>\n",
       "      <td>3494</td>\n",
       "    </tr>\n",
       "    <tr>\n",
       "      <th>5</th>\n",
       "      <td>5</td>\n",
       "      <td>2199</td>\n",
       "    </tr>\n",
       "  </tbody>\n",
       "</table>\n",
       "</div>"
      ],
      "text/plain": [
       "    k  count\n",
       "0   1  83030\n",
       "20  2  16108\n",
       "15  3   6475\n",
       "1   4   3494\n",
       "5   5   2199"
      ]
     },
     "execution_count": 24,
     "metadata": {},
     "output_type": "execute_result"
    }
   ],
   "source": [
    "repos_degree = [G.degree(n) for n in G.nodes() if n[0] == 'r']\n",
    "dd_repos = Counter(repos_degree) #getting the number of lists that have specific valuse\n",
    "dd_repos = pd.DataFrame(list(dd_repos.items()), columns = (\"k\", \"count\")).sort_values(by = \"k\")\n",
    "dd_repos.head()"
   ]
  },
  {
   "cell_type": "markdown",
   "id": "f1155f54",
   "metadata": {},
   "source": [
    "#### Get df for users"
   ]
  },
  {
   "cell_type": "code",
   "execution_count": 25,
   "id": "710ee707",
   "metadata": {},
   "outputs": [
    {
     "data": {
      "text/html": [
       "<div>\n",
       "<style scoped>\n",
       "    .dataframe tbody tr th:only-of-type {\n",
       "        vertical-align: middle;\n",
       "    }\n",
       "\n",
       "    .dataframe tbody tr th {\n",
       "        vertical-align: top;\n",
       "    }\n",
       "\n",
       "    .dataframe thead th {\n",
       "        text-align: right;\n",
       "    }\n",
       "</style>\n",
       "<table border=\"1\" class=\"dataframe\">\n",
       "  <thead>\n",
       "    <tr style=\"text-align: right;\">\n",
       "      <th></th>\n",
       "      <th>k</th>\n",
       "      <th>count</th>\n",
       "    </tr>\n",
       "  </thead>\n",
       "  <tbody>\n",
       "    <tr>\n",
       "      <th>8</th>\n",
       "      <td>1</td>\n",
       "      <td>23400</td>\n",
       "    </tr>\n",
       "    <tr>\n",
       "      <th>4</th>\n",
       "      <td>2</td>\n",
       "      <td>10369</td>\n",
       "    </tr>\n",
       "    <tr>\n",
       "      <th>22</th>\n",
       "      <td>3</td>\n",
       "      <td>4070</td>\n",
       "    </tr>\n",
       "    <tr>\n",
       "      <th>30</th>\n",
       "      <td>4</td>\n",
       "      <td>2750</td>\n",
       "    </tr>\n",
       "    <tr>\n",
       "      <th>90</th>\n",
       "      <td>5</td>\n",
       "      <td>1918</td>\n",
       "    </tr>\n",
       "  </tbody>\n",
       "</table>\n",
       "</div>"
      ],
      "text/plain": [
       "    k  count\n",
       "8   1  23400\n",
       "4   2  10369\n",
       "22  3   4070\n",
       "30  4   2750\n",
       "90  5   1918"
      ]
     },
     "execution_count": 25,
     "metadata": {},
     "output_type": "execute_result"
    }
   ],
   "source": [
    "user_degree = [G.degree(n) for n in G.nodes() if n[0] == 'u']\n",
    "dd_user = Counter(user_degree)\n",
    "dd_user = pd.DataFrame(list(dd_user.items()), columns = (\"k\", \"count\")).sort_values(by = \"k\")\n",
    "dd_user.head()"
   ]
  },
  {
   "cell_type": "markdown",
   "id": "fe580265",
   "metadata": {},
   "source": [
    "#### Visualize degree distribution (in terms of count) for both node types"
   ]
  },
  {
   "cell_type": "code",
   "execution_count": 26,
   "id": "3da80261",
   "metadata": {},
   "outputs": [
    {
     "data": {
      "image/png": "[encoded data removed]",
      "text/plain": [
       "<Figure size 720x360 with 2 Axes>"
      ]
     },
     "metadata": {},
     "output_type": "display_data"
    }
   ],
   "source": [
    "# Define axs and figure\n",
    "fig, axs = plt.subplots(1, 2, figsize=(10, 5))\n",
    "plt.subplots_adjust(wspace=.3)\n",
    "\n",
    "# Plot the data\n",
    "for ax, data, which_category in zip(axs, [dd_repos, dd_user], [\"repositories\", \"users\"]):\n",
    "    sns.scatterplot(data=data, x=\"k\", y=\"count\", ax=ax, alpha=0.4)\n",
    "    ax.set_title(f\"Degree distribution for\\n{which_category} in terms of k\", weight = \"bold\")\n",
    "\n",
    "# Save the plot\n",
    "if SAVE_FIG:\n",
    "    plt.savefig(f\"{PATH_TO['data']['figures']}/dd_bipartite_count.jpg\")"
   ]
  },
  {
   "cell_type": "markdown",
   "id": "0487a130",
   "metadata": {},
   "source": [
    "#### Visualize degree distribution (in terms of count) on log-log scale for both node types"
   ]
  },
  {
   "cell_type": "code",
   "execution_count": 27,
   "id": "4afd627d",
   "metadata": {},
   "outputs": [
    {
     "data": {
      "image/png": "[encoded data removed]",
      "text/plain": [
       "<Figure size 720x360 with 2 Axes>"
      ]
     },
     "metadata": {},
     "output_type": "display_data"
    }
   ],
   "source": [
    "# Define axs and figure\n",
    "fig, axs = plt.subplots(1, 2, figsize=(10, 5))\n",
    "plt.subplots_adjust(wspace=.3)\n",
    "\n",
    "# Plot the data\n",
    "for ax, data, which_category in zip(axs, [dd_repos, dd_user], [\"repositories\", \"users\"]):\n",
    "    sns.scatterplot(data=data, x=\"k\", y=\"count\", ax=ax, alpha=0.4)\n",
    "    ax.set_title(f\"Degree distribution for\\n{which_category} in terms of k\", weight = \"bold\")\n",
    "    ax.set_xscale('log')\n",
    "    ax.set_yscale('log')\n",
    "\n",
    "# Save the plot\n",
    "if SAVE_FIG:\n",
    "    plt.savefig(f\"{PATH_TO['data']['figures']}/dd_bipartite_count_loglog.jpg\")"
   ]
  },
  {
   "cell_type": "markdown",
   "id": "0c195333",
   "metadata": {},
   "source": [
    "#### Get CCDF dataframe for repos"
   ]
  },
  {
   "cell_type": "code",
   "execution_count": 28,
   "id": "31258fc8",
   "metadata": {},
   "outputs": [
    {
     "data": {
      "text/html": [
       "<div>\n",
       "<style scoped>\n",
       "    .dataframe tbody tr th:only-of-type {\n",
       "        vertical-align: middle;\n",
       "    }\n",
       "\n",
       "    .dataframe tbody tr th {\n",
       "        vertical-align: top;\n",
       "    }\n",
       "\n",
       "    .dataframe thead th {\n",
       "        text-align: right;\n",
       "    }\n",
       "</style>\n",
       "<table border=\"1\" class=\"dataframe\">\n",
       "  <thead>\n",
       "    <tr style=\"text-align: right;\">\n",
       "      <th></th>\n",
       "      <th>k</th>\n",
       "      <th>ccdf</th>\n",
       "    </tr>\n",
       "  </thead>\n",
       "  <tbody>\n",
       "    <tr>\n",
       "      <th>0</th>\n",
       "      <td>1</td>\n",
       "      <td>1.000000</td>\n",
       "    </tr>\n",
       "    <tr>\n",
       "      <th>20</th>\n",
       "      <td>2</td>\n",
       "      <td>0.313047</td>\n",
       "    </tr>\n",
       "    <tr>\n",
       "      <th>15</th>\n",
       "      <td>3</td>\n",
       "      <td>0.179776</td>\n",
       "    </tr>\n",
       "    <tr>\n",
       "      <th>1</th>\n",
       "      <td>4</td>\n",
       "      <td>0.126205</td>\n",
       "    </tr>\n",
       "    <tr>\n",
       "      <th>5</th>\n",
       "      <td>5</td>\n",
       "      <td>0.097297</td>\n",
       "    </tr>\n",
       "  </tbody>\n",
       "</table>\n",
       "</div>"
      ],
      "text/plain": [
       "    k      ccdf\n",
       "0   1  1.000000\n",
       "20  2  0.313047\n",
       "15  3  0.179776\n",
       "1   4  0.126205\n",
       "5   5  0.097297"
      ]
     },
     "execution_count": 28,
     "metadata": {},
     "output_type": "execute_result"
    }
   ],
   "source": [
    "ccdf_repos = dd_repos.sort_values(by = \"k\", ascending = False) #sort in descending order\n",
    "ccdf_repos[\"cumsum\"] = ccdf_repos[\"count\"].cumsum() \n",
    "ccdf_repos[\"ccdf\"] = ccdf_repos[\"cumsum\"] / ccdf_repos[\"count\"].sum()# normalize the data\n",
    "ccdf_repos = ccdf_repos[[\"k\", \"ccdf\"]].sort_values(by = \"k\") #sort by ascending degree\n",
    "ccdf_repos.head()"
   ]
  },
  {
   "cell_type": "markdown",
   "id": "356d9b6f",
   "metadata": {},
   "source": [
    "#### Get CCDF dataframe for users"
   ]
  },
  {
   "cell_type": "code",
   "execution_count": 29,
   "id": "643069d5",
   "metadata": {},
   "outputs": [
    {
     "data": {
      "text/html": [
       "<div>\n",
       "<style scoped>\n",
       "    .dataframe tbody tr th:only-of-type {\n",
       "        vertical-align: middle;\n",
       "    }\n",
       "\n",
       "    .dataframe tbody tr th {\n",
       "        vertical-align: top;\n",
       "    }\n",
       "\n",
       "    .dataframe thead th {\n",
       "        text-align: right;\n",
       "    }\n",
       "</style>\n",
       "<table border=\"1\" class=\"dataframe\">\n",
       "  <thead>\n",
       "    <tr style=\"text-align: right;\">\n",
       "      <th></th>\n",
       "      <th>k</th>\n",
       "      <th>ccdf</th>\n",
       "    </tr>\n",
       "  </thead>\n",
       "  <tbody>\n",
       "    <tr>\n",
       "      <th>8</th>\n",
       "      <td>1</td>\n",
       "      <td>1.000000</td>\n",
       "    </tr>\n",
       "    <tr>\n",
       "      <th>4</th>\n",
       "      <td>2</td>\n",
       "      <td>0.585980</td>\n",
       "    </tr>\n",
       "    <tr>\n",
       "      <th>22</th>\n",
       "      <td>3</td>\n",
       "      <td>0.402520</td>\n",
       "    </tr>\n",
       "    <tr>\n",
       "      <th>30</th>\n",
       "      <td>4</td>\n",
       "      <td>0.330508</td>\n",
       "    </tr>\n",
       "    <tr>\n",
       "      <th>90</th>\n",
       "      <td>5</td>\n",
       "      <td>0.281852</td>\n",
       "    </tr>\n",
       "  </tbody>\n",
       "</table>\n",
       "</div>"
      ],
      "text/plain": [
       "    k      ccdf\n",
       "8   1  1.000000\n",
       "4   2  0.585980\n",
       "22  3  0.402520\n",
       "30  4  0.330508\n",
       "90  5  0.281852"
      ]
     },
     "execution_count": 29,
     "metadata": {},
     "output_type": "execute_result"
    }
   ],
   "source": [
    "ccdf_users = dd_user.sort_values(by = \"k\", ascending = False)\n",
    "ccdf_users[\"cumsum\"] = ccdf_users[\"count\"].cumsum()\n",
    "ccdf_users[\"ccdf\"] = ccdf_users[\"cumsum\"] / ccdf_users[\"count\"].sum()\n",
    "ccdf_users = ccdf_users[[\"k\", \"ccdf\"]].sort_values(by = \"k\")\n",
    "ccdf_users.head()"
   ]
  },
  {
   "cell_type": "markdown",
   "id": "8b13ccf1",
   "metadata": {},
   "source": [
    "#### Visualize CCDF for both node types on a log-log scale"
   ]
  },
  {
   "cell_type": "code",
   "execution_count": 30,
   "id": "931d685e",
   "metadata": {},
   "outputs": [
    {
     "data": {
      "image/png": "[encoded data removed]",
      "text/plain": [
       "<Figure size 720x360 with 2 Axes>"
      ]
     },
     "metadata": {},
     "output_type": "display_data"
    }
   ],
   "source": [
    "# Define axs and figure\n",
    "fig, axs = plt.subplots(1, 2, figsize=(10, 5))\n",
    "plt.subplots_adjust(wspace=.3)\n",
    "\n",
    "# Plot the data\n",
    "for ax, data, which_category in zip(axs, [ccdf_repos, ccdf_users], [\"repositories\", \"users\"]):\n",
    "    sns.lineplot(data=data, x=\"k\", y=\"ccdf\", ax=ax)\n",
    "    ax.set_title(f\"CCDF for {which_category}\", weight = \"bold\")\n",
    "    ax.set_xscale('log')\n",
    "    ax.set_yscale('log')\n",
    "\n",
    "# Save the plot\n",
    "if SAVE_FIG:\n",
    "    plt.savefig(f\"{PATH_TO['data']['figures']}/dd_bipartite_ccdf_loglog.jpg\")"
   ]
  },
  {
   "cell_type": "markdown",
   "id": "3fcd6e15",
   "metadata": {
    "cell_id": "00038-1fd838d9-9510-4d37-ae0d-f79d6b1ab5ea",
    "deepnote_cell_type": "markdown",
    "tags": []
   },
   "source": [
    "### Power law fit\n",
    "\n",
    "*Disclaimer: The code for this section is adapted from [this source](https://www.networkatlas.eu/exercise.htm?c=6&e=5).*\n",
    "\n",
    "Here we are checking if the network is a power law, this is checked because if the network is a power law as this would mean that there is afunctional relationship between the quantities.\n",
    "\n",
    "a ~ 2 is normal for a majority of networks which means that our network should only have one hub that is much larger than the rest\n",
    "\n",
    "k_min mentioned not sure if anything should be added abou it (page 107 in The Atlas for the Aspiring Network Scientist\n",
    ")"
   ]
  },
  {
   "cell_type": "markdown",
   "id": "cd587697",
   "metadata": {},
   "source": [
    "#### Compute power law fit for repositories"
   ]
  },
  {
   "cell_type": "code",
   "execution_count": 31,
   "id": "dc83197c",
   "metadata": {
    "cell_id": "00039-9595dd92-59ef-4bd6-a029-f1835de01a8d",
    "deepnote_cell_type": "code",
    "deepnote_to_be_reexecuted": false,
    "execution_millis": 475,
    "execution_start": 1633939939547,
    "source_hash": "3f80c4de",
    "tags": []
   },
   "outputs": [
    {
     "name": "stdout",
     "output_type": "stream",
     "text": [
      "Calculating best minimal value for power law fit\n",
      "xmin progress: 00%\r",
      "xmin progress: 00%\r",
      "xmin progress: 00%\r",
      "xmin progress: 00%\r",
      "xmin progress: 01%\r",
      "xmin progress: 01%\r",
      "xmin progress: 01%\r",
      "xmin progress: 02%\r",
      "xmin progress: 02%\r",
      "xmin progress: 02%\r",
      "xmin progress: 02%\r",
      "xmin progress: 03%\r",
      "xmin progress: 03%\r",
      "xmin progress: 03%\r",
      "xmin progress: 04%\r",
      "xmin progress: 04%\r",
      "xmin progress: 04%"
     ]
    },
    {
     "name": "stderr",
     "output_type": "stream",
     "text": [
      "/Library/Frameworks/Python.framework/Versions/3.8/lib/python3.8/site-packages/powerlaw.py:1156: RuntimeWarning: invalid value encountered in log\n",
      "  self.alpha = 1 + (self.n / sum(log(data / (self.xmin - .5))))\n"
     ]
    },
    {
     "name": "stdout",
     "output_type": "stream",
     "text": [
      "Powerlaw CCDF Fit: 10.0003 x ^ -1.2916 (k_min = 2)\n"
     ]
    }
   ],
   "source": [
    "results = pl.Fit(ccdf_repos[\"ccdf\"], discrete=True, fit_method=\"KS\")# fitting the data using the pl package\n",
    "k_min = ccdf_repos[ccdf_repos[\"ccdf\"] == results.power_law.xmin][\"k\"] #finding the degree value that corresponds to the probability in pl.xmin\n",
    "ccdf_repos[\"fit\"] = (10 ** results.power_law.Kappa) * (ccdf_repos[\"k\"] ** -results.power_law.alpha)\n",
    "print(\"Powerlaw CCDF Fit: %1.4f x ^ -%1.4f (k_min = %d)\" % (10 ** results.power_law.Kappa, results.power_law.alpha, k_min))"
   ]
  },
  {
   "cell_type": "markdown",
   "id": "f9c417a9",
   "metadata": {},
   "source": [
    "#### Compute power law fit for users"
   ]
  },
  {
   "cell_type": "code",
   "execution_count": 32,
   "id": "d6461515",
   "metadata": {},
   "outputs": [
    {
     "name": "stdout",
     "output_type": "stream",
     "text": [
      "Calculating best minimal value for power law fit\n",
      "Powerlaw CCDF Fit: 9.9606 x ^ -1.6631 (k_min = 6)\n"
     ]
    }
   ],
   "source": [
    "results = pl.Fit(ccdf_users[\"ccdf\"], discrete=True, fit_method=\"KS\")\n",
    "k_min = ccdf_users[ccdf_users[\"ccdf\"] == results.power_law.xmin][\"k\"]\n",
    "ccdf_users[\"fit\"] = (10 ** results.power_law.Kappa) * (ccdf_users[\"k\"] ** -results.power_law.alpha)\n",
    "print(\"Powerlaw CCDF Fit: %1.4f x ^ -%1.4f (k_min = %d)\" % (10 ** results.power_law.Kappa, results.power_law.alpha, k_min))"
   ]
  },
  {
   "cell_type": "markdown",
   "id": "0ef19d13",
   "metadata": {},
   "source": [
    "#### Visualize the fit for both node types\n",
    "\n",
    "The conclusion from the both plots is that there is now way that either of them follows power law."
   ]
  },
  {
   "cell_type": "code",
   "execution_count": 33,
   "id": "d3c0f1c3",
   "metadata": {},
   "outputs": [
    {
     "data": {
      "image/png": "[encoded data removed]",
      "text/plain": [
       "<Figure size 720x360 with 2 Axes>"
      ]
     },
     "metadata": {},
     "output_type": "display_data"
    }
   ],
   "source": [
    "# Define axs and figure\n",
    "fig, axs = plt.subplots(1, 2, figsize=(10, 5))\n",
    "plt.subplots_adjust(wspace=.3)\n",
    "\n",
    "# Plot the data\n",
    "for ax, data, which_category in zip(axs, [ccdf_repos, ccdf_users], [\"repositories\", \"users\"]):\n",
    "    sns.lineplot(data=data, x=\"k\", y=\"ccdf\", ax=ax)\n",
    "    sns.lineplot(data=data, x=\"k\", y=\"fit\", ax=ax)\n",
    "    ax.set_title(f\"Powerlaw fit for {which_category}\", weight = \"bold\")\n",
    "    ax.set_xscale('log')\n",
    "    ax.set_yscale('log')\n",
    "\n",
    "# Save the plot\n",
    "if SAVE_FIG:\n",
    "    plt.savefig(f\"{PATH_TO['data']['figures']}/power_law_fit_bipartite.jpg\")"
   ]
  },
  {
   "cell_type": "markdown",
   "id": "4610d30c",
   "metadata": {
    "cell_id": "00036-7142cda8-9b08-4aab-8b82-c2f624e4309f",
    "deepnote_cell_type": "markdown",
    "tags": []
   },
   "source": [
    "## #05 Projections\n",
    "---\n",
    "\n",
    "In this section, we focus on computing projections of our bipartite network onto repository nodes. The reason why we decided to choose repository nodes is that it makes more sense in the context of our problem, i.e., predicting relevant repositories to follow for the given user. In other words, in the projected network, two nodes will be connected with an edge if they have common neighbors, in this case github users. We use several projections method where each method puts different weight $w$ to given edge.\n",
    "\n",
    "### Prepare projection methods\n",
    "\n",
    "In this section we implement selected projections from the book, you can see the implementation code in `cscripts/projections.py`. Below, we provide a description of implemented methods."
   ]
  },
  {
   "cell_type": "markdown",
   "id": "d52ab72a",
   "metadata": {},
   "source": [
    "#### Summary of implemented projection methods\n",
    "\n",
    "##### Simple weights\n",
    "Simple weights works by identifying the number of common neighbors each pair of node has, which becomes the weight of the edge.\n",
    "\n",
    "##### Jaccard correction\n",
    "Takes a weighted link and applies the Jaccard correction by normalizing it with the union of the neighbor sets size.\n",
    "\n",
    "##### Hyperbolic weights\n",
    "In hyperbolic weights the hubs with a lot of connections contribute less to the weight than the ones outside of the hubs\n",
    "\n",
    "##### HeatS\n",
    "a type of resource allocation used to Generate the weights by doing random walks by initiating a endpoint for the random walk\n",
    "\n",
    "\n",
    "##### Hybrid\n",
    "A combination of the ProbS and HeatS methods"
   ]
  },
  {
   "cell_type": "markdown",
   "id": "4a54a976",
   "metadata": {},
   "source": [
    "### Test the implemented projection methods\n",
    "\n",
    "The purpose of the below test is to just show that the implemented methods run without error."
   ]
  },
  {
   "cell_type": "code",
   "execution_count": 45,
   "id": "a6465393",
   "metadata": {
    "cell_id": "00044-cc714010-15ce-4497-89d1-02abaf85cf8d",
    "deepnote_cell_type": "code",
    "deepnote_to_be_reexecuted": false,
    "execution_millis": 8349,
    "execution_start": 1633939942256,
    "source_hash": "5ed5a4ee",
    "tags": []
   },
   "outputs": [
    {
     "data": {
      "text/html": [
       "<div>\n",
       "<style scoped>\n",
       "    .dataframe tbody tr th:only-of-type {\n",
       "        vertical-align: middle;\n",
       "    }\n",
       "\n",
       "    .dataframe tbody tr th {\n",
       "        vertical-align: top;\n",
       "    }\n",
       "\n",
       "    .dataframe thead th {\n",
       "        text-align: right;\n",
       "    }\n",
       "</style>\n",
       "<table border=\"1\" class=\"dataframe\">\n",
       "  <thead>\n",
       "    <tr style=\"text-align: right;\">\n",
       "      <th></th>\n",
       "      <th>Method</th>\n",
       "      <th>Score</th>\n",
       "    </tr>\n",
       "  </thead>\n",
       "  <tbody>\n",
       "    <tr>\n",
       "      <th>0</th>\n",
       "      <td>simple_weight</td>\n",
       "      <td>46.000000</td>\n",
       "    </tr>\n",
       "    <tr>\n",
       "      <th>1</th>\n",
       "      <td>simple_weight_vec</td>\n",
       "      <td>46.000000</td>\n",
       "    </tr>\n",
       "    <tr>\n",
       "      <th>2</th>\n",
       "      <td>jaccard</td>\n",
       "      <td>0.056442</td>\n",
       "    </tr>\n",
       "    <tr>\n",
       "      <th>3</th>\n",
       "      <td>hyperbolic</td>\n",
       "      <td>1.080843</td>\n",
       "    </tr>\n",
       "    <tr>\n",
       "      <th>4</th>\n",
       "      <td>probs</td>\n",
       "      <td>0.001634</td>\n",
       "    </tr>\n",
       "    <tr>\n",
       "      <th>5</th>\n",
       "      <td>heats</td>\n",
       "      <td>0.004379</td>\n",
       "    </tr>\n",
       "    <tr>\n",
       "      <th>6</th>\n",
       "      <td>hybrid</td>\n",
       "      <td>0.000007</td>\n",
       "    </tr>\n",
       "    <tr>\n",
       "      <th>7</th>\n",
       "      <td>euclidean</td>\n",
       "      <td>27.730849</td>\n",
       "    </tr>\n",
       "    <tr>\n",
       "      <th>8</th>\n",
       "      <td>euclidean_norm</td>\n",
       "      <td>0.034806</td>\n",
       "    </tr>\n",
       "    <tr>\n",
       "      <th>9</th>\n",
       "      <td>pearson</td>\n",
       "      <td>1.114186</td>\n",
       "    </tr>\n",
       "    <tr>\n",
       "      <th>10</th>\n",
       "      <td>cosine</td>\n",
       "      <td>0.120093</td>\n",
       "    </tr>\n",
       "  </tbody>\n",
       "</table>\n",
       "</div>"
      ],
      "text/plain": [
       "               Method      Score\n",
       "0       simple_weight  46.000000\n",
       "1   simple_weight_vec  46.000000\n",
       "2             jaccard   0.056442\n",
       "3          hyperbolic   1.080843\n",
       "4               probs   0.001634\n",
       "5               heats   0.004379\n",
       "6              hybrid   0.000007\n",
       "7           euclidean  27.730849\n",
       "8      euclidean_norm   0.034806\n",
       "9             pearson   1.114186\n",
       "10             cosine   0.120093"
      ]
     },
     "execution_count": 45,
     "metadata": {},
     "output_type": "execute_result"
    }
   ],
   "source": [
    "# Define repos and users nodes\n",
    "repos = [node for node in G.nodes() if node[0] == 'r']\n",
    "users = [node for node in G.nodes() if node[0] == 'u']\n",
    "\n",
    "# Initiate projections object\n",
    "proj = projections.Projections(G, nodes={\"repos\": repos, \"users\": users})\n",
    "\n",
    "# Select random nodes from our bipartite network for which we want to do the test\n",
    "u = 'r6'\n",
    "v = 'r3'\n",
    "\n",
    "# Run the test\n",
    "results = {\"Method\": [], \"Score\": []}\n",
    "for name, info in proj.info.items():\n",
    "    \n",
    "    # Compute weight\n",
    "    w = proj.test_weight_func(name, info, u, v, \"repos\")\n",
    "    \n",
    "    # Show the result\n",
    "    results[\"Method\"].append(name)\n",
    "    results[\"Score\"].append(w)\n",
    "\n",
    "pd.DataFrame(results)"
   ]
  },
  {
   "cell_type": "markdown",
   "id": "2aa537a0",
   "metadata": {},
   "source": [
    "### Test the performance of the implemented methods\n",
    "\n",
    "The goal of this section is to test performance of implemented methods. Or in other words, we want to figure out which methods are able to finish within a realistic timeframe.\n",
    "\n",
    "#### Default benchmark\n",
    "\n",
    "We tried to use `simple weight` projection method on our network, and it finished within `10 min`. Below, we look at the average time which it takes to compute weight for one edge."
   ]
  },
  {
   "cell_type": "code",
   "execution_count": 46,
   "id": "664a37ad",
   "metadata": {},
   "outputs": [
    {
     "name": "stdout",
     "output_type": "stream",
     "text": [
      "32.9 µs ± 1.44 µs per loop (mean ± std. dev. of 7 runs, 1000 loops each)\n"
     ]
    }
   ],
   "source": [
    "# Default benchmark, at this pace, it will compute within 10 min\n",
    "# Simple weight projection\n",
    "%timeit -n 1000 proj.simple_weight(u, v)"
   ]
  },
  {
   "cell_type": "markdown",
   "id": "7bcc549f",
   "metadata": {},
   "source": [
    "#### Methods which use vectorization\n",
    "We found out that all methods which do not require vectorization are able to finish within reasonable timeframe. Below, we demonstrate perfomance of one of the selected methods which uses vectorization."
   ]
  },
  {
   "cell_type": "code",
   "execution_count": 47,
   "id": "8546ac8e",
   "metadata": {},
   "outputs": [],
   "source": [
    "# Setup\n",
    "adj = proj.get_sparse_adj_matrix(repos, users)\n",
    "v_u = proj.node_to_vector(repos, adj, u)\n",
    "v_v = proj.node_to_vector(repos, adj, v)"
   ]
  },
  {
   "cell_type": "code",
   "execution_count": 48,
   "id": "0aee8ed8",
   "metadata": {},
   "outputs": [
    {
     "name": "stdout",
     "output_type": "stream",
     "text": [
      "545 µs ± 45.2 µs per loop (mean ± std. dev. of 7 runs, 1000 loops each)\n"
     ]
    }
   ],
   "source": [
    "# Run the test\n",
    "%timeit -n 1000 proj.pearson(v_u, v_v)"
   ]
  },
  {
   "cell_type": "markdown",
   "id": "37641df9",
   "metadata": {},
   "source": [
    "### Computation of projections\n",
    "\n",
    "Finally, after all testing and performance evaluation, we compute projection of our bi-partite network using following methods:\n",
    "- `Simple weight`\n",
    "- `Jaccard`\n",
    "- `Hyperbolic`\n",
    "- `Probs`\n",
    "- `Heats`"
   ]
  },
  {
   "cell_type": "code",
   "execution_count": 141,
   "id": "621977da",
   "metadata": {},
   "outputs": [],
   "source": [
    "# Define projections which you want to compute\n",
    "# TODO: Add back \"hyperbolic\"\n",
    "projection_functions_names = [\"simple_weight\", \"jaccard\", \"hyperbolic\", \"probs\", \"heats\"]"
   ]
  },
  {
   "cell_type": "code",
   "execution_count": 142,
   "id": "8cb7b97a",
   "metadata": {
    "cell_id": "00048-9c928f17-cf37-4b25-b790-03012da5a9b1",
    "deepnote_cell_type": "code",
    "deepnote_to_be_reexecuted": false,
    "execution_millis": 5,
    "execution_start": 1633939950608,
    "output_cleared": true,
    "source_hash": "9d6d29e5",
    "tags": []
   },
   "outputs": [],
   "source": [
    "if COMPUTE_PROJECTIONS:\n",
    "    metadata = {}\n",
    "    \n",
    "    for name in projection_functions_names:\n",
    "        metadata[name] = {}\n",
    "        metadata[name]['date'] = date.today().strftime('%d/%m/%y')\n",
    "        metadata[name]['time'] = datetime.now().strftime('%H:%M:%S')\n",
    "        metadata[name]['error'] = None\n",
    "        \n",
    "        print(f\"Currently working on: {name}\")\n",
    "        try:\n",
    "            start = time()\n",
    "            proj.project(which_n=\"repos\", which_p=name, savepath=f\"{PATH_TO['data']['projections']}/edge_list_format/{name}.edges\")\n",
    "            projected_time = round(time() - start, 2)\n",
    "            metadata[name]['projected_time'] = projected_time\n",
    "        except Exception as e:\n",
    "            print(f\"Function: {name} - failed because\")\n",
    "            metadata[name]['error'] = e\n",
    "            print(e)\n",
    "            print(\"-\"*10)\n",
    "        print()\n",
    "        metadata[name]['success'] = True\n",
    "     \n",
    "    summarise.write_metadata(metadata, filepath=PATH_TO['data']['metadata'], name='projections')\n",
    "    print('Saved Metadata')"
   ]
  },
  {
   "cell_type": "markdown",
   "id": "492e6715",
   "metadata": {},
   "source": [
    "### Evaluating Projections\n",
    "\n",
    "In this section, we are trying to compute relevant statistics and visualise properties of the projections in a useful way in order to evaluate, which projection method might be the most reasonable to use for a recommendation system. We are using our custom function `generate_summary`, which generates a markdown file in the generated filepath for the desired unipartite graph."
   ]
  },
  {
   "cell_type": "code",
   "execution_count": 143,
   "id": "bc16ef49",
   "metadata": {},
   "outputs": [],
   "source": [
    "if GENERATE_SUMMARY_PROJ:\n",
    "    metadata = {}\n",
    "    \n",
    "    for name in projection_functions_names:\n",
    "        metadata[name] = {}\n",
    "        metadata[name]['date'] = date.today().strftime('%d/%m/%y')\n",
    "        metadata[name]['time'] = datetime.now().strftime('%H:%M:%S')\n",
    "        print('='*10)\n",
    "        print(f\"Projection Method: {name.replace('_',' ').title()}\\n\")\n",
    "        \n",
    "        # load edge list into graph\n",
    "        print(\"Loading Projection Graph\")\n",
    "        \n",
    "        start = time()\n",
    "        df = pd.read_csv(f\"{PATH_TO['data']['projections']}/edge_list_format/{name}.edges\",\n",
    "                        header=0,\n",
    "                        delimiter=\"\\t\")\n",
    "        if name in ['probs', 'heats']:\n",
    "            G = nx.convert_matrix.from_pandas_edgelist(df, source=\"src\", target=\"trg\", create_using=nx.DiGraph, edge_attr=\"weight\")\n",
    "        else:\n",
    "            G = nx.convert_matrix.from_pandas_edgelist(df, source=\"src\", target=\"trg\", edge_attr=\"weight\")\n",
    "        load_time = round(time() - start, 2)\n",
    "        metadata[name]['load_time'] = load_time\n",
    "\n",
    "        print(f\"Loaded in {load_time}s\\n\")\n",
    "        print(f\"Starting Markdown Generation\")\n",
    "        \n",
    "        start = time()\n",
    "        with contextlib.redirect_stdout(None): # surpress output\n",
    "            summarise.generate_markdown(G, filepath=f\"{PATH_TO['data']['summaries']}/projections\", name=name, plain=False)\n",
    "        execution_time = round(time() - start, 2)\n",
    "        metadata[name]['execution_time'] = execution_time\n",
    "            \n",
    "        print(f\"Finished in {execution_time}s. Summary saved to {PATH_TO['data']['summaries']}/projections/{name}\")\n",
    "        print('='*10 + '\\n')\n",
    "        metadata[name]['success'] = True\n",
    "    \n",
    "    summarise.write_metadata(metadata, filepath=PATH_TO['data']['metadata'], name='projections_summaries')\n",
    "    print('Saved Metadata')"
   ]
  },
  {
   "cell_type": "markdown",
   "id": "5ff8797f",
   "metadata": {},
   "source": [
    "### Evaluation Results\n",
    "---\n",
    "All projections methods produce unipartite graphs with equal number of nodes and edges, because each projection is based on comparing the set of nodes in the neighborhood between each node. Thus, from the nature of the methods, two repositories that do not have any users in common, will result in a non-existing edge in either method, and two repositories that do have users in common, will result in nonzero edge weigth, and there will be an edge in the projected graph. \n",
    "\n",
    "From the unique 120.867 repositories in the raw data (bipartite graph), we loose 12.119 (resulting in only 108.648 repositories in each of our projected graphs). For these 12.119 repositories, this means that there did not exist a single user that follows both the repository in question and any other repository (thus, the repository is only connected to degree 1 users). Although this number is quite high (roughly 10% of the network repositories are filtered out), it is understandable, given that the most common degree is 1 (average close to 1) in the original bipartite network and thus the probability of a repository only being connected to degree one neighbors, is considerably high. \n",
    "\n",
    "Each of the projected graphs has 2.948 connected components. Separate components exist if and only if there does not exist any common neighbor (user in the bipartite network) between any of the connected components nodes (repositories). Such a structure may hint at communities of repositories, ie. there exists a closed (connected) group of users that follow a set of similar repositories, but do not have any commonly watched repositories with uers in other repository communities. This structure is not preventive for a recommendation system, as long as the number of nodes in each of the connected componenets is high enough to make reasonable recommendations. A look at the five-number summary reveals that the minium number of nodes in each connected component is 2. For all these CC's we can maximally recommend a single repository. However $91,87\\%$ of all repositories are in the largest connected component, and for these repositories we are guaranteed to be able to make more than a single recommendation. \n",
    "\n",
    "The methods only differ in the way they assign edge weights (ie. our measure of similarity for two repositories). Thus, in order to gain insights into which projection method might be most useful in a recommendation system, we need to analyse the edge weight distribution of the projected graphs. \n",
    "\n",
    "**Simple Weight**\n",
    "\n",
    "The range of the edge weights is from $[0, |V|-1]$. The most frequently assigned edge weight is $1$, meaning that a pair of repositories has one common neighbor (independetly from the size of the neighbor sets (degree of two repositories). From the five-number summary we know that at least $75\\%$ of the edges have an edge weight of $1$. The maximum edge weight is $954$. \n",
    "If the vast majority of edges are equivalent, the produced graph is not suitable for a recommendation system, as equivalent weights do not allow us to compare similar repositiories quantitatively. In the probable scenario, were all neighboring repository have the same edge weight of 1, our recommendation would be at random. \n",
    "Furthermore, this method tends to recommend high-degree repositories (to each other), just because of the fact that many users follow it. This increases the chance of the repo to have a (or many) common neighbor(s) with any repository. Such a property is undesirable for a recommmendation system, since we would rather base our recommendation on the similarity of two repositories, than the mere size of it.\n",
    "\n",
    "**Jaccard**\n",
    "\n",
    "The Jaccard projection method extends the idea of simply counting the numbers of common neighbors by normalising the number of common neighbors by the size of the union of the neighboring sets. Thus, the range of edge weights is $[0, 1]$, where 0 means (like in simple weight) that there does not exist any common neighbor and $1$ means that two repositories are followed by the exact same set of users. This approach limits the influence hubs have on the recommendation, thus reversely, promoting the influence of non-hubs. \n",
    "The most frequent edge weight is still $1$, meaning that most connections found result from two neighboring sets being exactly equivalent, which results both from the fact the majority of connected components are of size $2$\n",
    "and the average density amongst the connected components is high with $\\approx 97\\%$\n",
    "Jaccard projections are superior to simple weight projetions as they limit the strong influence of hub repositories on the recommendation, which is a desiirable property for our recommendation system. However, a further improvememnt would be if the influence of super-users (high degree users) would be regulated, ie. a super-user contributes less to a recommendation, since the fact that they are a common neighbor of two repositories is likely.\n",
    "\n",
    "**Hyperbolic**\n",
    "\n",
    "The hyperbolic projection method addresses the problem of super-users, and regulates their influence on the recommendation down. However, it looses the ability to regulate repository-hubs from the Jaccard and is therefore not the best method to use. We would rather find a hybrid method. \n",
    "\n",
    "**Resource Allocation**\n",
    "\n",
    "Projecting a bipartite network using the method of resource allocation generates a directed graph. This property alone is intersting in terms of using the projected graph as a recommendation system, since recommendations might not be unidirectional, ie. we might want to recommend repo1 to repo2, but not reversely. This method is the only of the named projection methods that is capable of doing this. \n",
    "The HeatS approach both regulates high-degree repositories and users and is capable of giving bidirectional recommendations. It is therefore the preferred projection method for our recommendation system."
   ]
  },
  {
   "cell_type": "markdown",
   "id": "8c3b02dc",
   "metadata": {},
   "source": [
    "### Edge weight distribution\n",
    "---\n",
    "\n",
    "As mentioned above, projections in the way they assign weight to the corresponding edge."
   ]
  },
  {
   "cell_type": "code",
   "execution_count": 144,
   "id": "d8994406",
   "metadata": {},
   "outputs": [],
   "source": [
    "# Save the edge weights of each projection to dictionary\n",
    "weights = dict()\n",
    "\n",
    "for projection_name in projection_functions_names:\n",
    "    \n",
    "    # Read the data\n",
    "    df = pd.read_csv(f\"{PATH_TO['data']['projections']}/edge_list_format/{projection_name}.edges\", header=0,delimiter=\"\\t\")\n",
    "    \n",
    "    # Get the edge weights\n",
    "    weights[projection_name] = np.array(df['weight'])"
   ]
  },
  {
   "cell_type": "code",
   "execution_count": 154,
   "id": "bece4143",
   "metadata": {},
   "outputs": [
    {
     "name": "stdout",
     "output_type": "stream",
     "text": [
      "Currently working on simple_weight\n",
      "Currently working on jaccard\n",
      "Currently working on hyperbolic\n",
      "Currently working on probs\n",
      "Currently working on heats\n"
     ]
    },
    {
     "data": {
      "image/png": "[encoded data removed]",
      "text/plain": [
       "<Figure size 1080x720 with 6 Axes>"
      ]
     },
     "metadata": {},
     "output_type": "display_data"
    }
   ],
   "source": [
    "# Define axs and figure\n",
    "fig, axs = plt.subplots(2, 3, figsize=(15, 10))\n",
    "plt.subplots_adjust(wspace=.5, hspace=.8)\n",
    "\n",
    "for i, row in enumerate(axs):\n",
    "    \n",
    "    for j, ax in enumerate(row):\n",
    "        \n",
    "        # Last subplot\n",
    "        if (i*3 + j) == 5:\n",
    "            ax.axis('off')\n",
    "            continue\n",
    "        \n",
    "        # Get projection name\n",
    "        projection_name = projection_functions_names[i*3 + j]\n",
    "        \n",
    "        print(f'Currently working on {projection_name}')\n",
    "        \n",
    "        # Get the weights\n",
    "        c = Counter(weights[projection_name])\n",
    "        w = pd.DataFrame({'Weight': c.keys(), 'Count': c.values()}, columns=['Weight', 'Count']).sort_values(by='Weight')\n",
    "        \n",
    "        # Plot it as lineplot\n",
    "        sns.lineplot(data=w, x='Weight', y='Count', ax=ax)\n",
    "        \n",
    "        # Set the scale\n",
    "        ax.set_yscale('log')\n",
    "        ax.set_xscale('log')\n",
    "        \n",
    "        # Set the title\n",
    "        ax.set_title(f'Edge weight distribution\\nfor {projection_name}', weight='bold')\n",
    "\n",
    "plt.savefig(f\"{PATH_TO['data']['figures']}/projections_weight_dist.jpg\")\n",
    "# Save the plot\n",
    "if SAVE_FIG:\n",
    "    plt.savefig(f\"{PATH_TO['data']['figures']}/projections_weight_dist.jpg\")"
   ]
  },
  {
   "cell_type": "markdown",
   "id": "73556b28",
   "metadata": {},
   "source": [
    "### Connected components\n",
    "---\n",
    "\n",
    "We want to take a closer look on the connected components. Since the topology of all our projections is the same and they just differ in edge weights, we just select one projection and on it look at the metric of interest."
   ]
  },
  {
   "cell_type": "code",
   "execution_count": 21,
   "id": "34500e58",
   "metadata": {},
   "outputs": [
    {
     "ename": "NameError",
     "evalue": "name 'PATH_TO' is not defined",
     "output_type": "error",
     "traceback": [
      "\u001b[0;31m---------------------------------------------------------------------------\u001b[0m",
      "\u001b[0;31mNameError\u001b[0m                                 Traceback (most recent call last)",
      "\u001b[0;32m<ipython-input-21-bfeef9decbf9>\u001b[0m in \u001b[0;36m<module>\u001b[0;34m\u001b[0m\n\u001b[1;32m      1\u001b[0m \u001b[0;31m# Get df of edges\u001b[0m\u001b[0;34m\u001b[0m\u001b[0;34m\u001b[0m\u001b[0;34m\u001b[0m\u001b[0m\n\u001b[0;32m----> 2\u001b[0;31m \u001b[0mdf\u001b[0m \u001b[0;34m=\u001b[0m \u001b[0mpd\u001b[0m\u001b[0;34m.\u001b[0m\u001b[0mread_csv\u001b[0m\u001b[0;34m(\u001b[0m\u001b[0;34mf\"{PATH_TO['data']['projections']}/edge_list_format/simple_weight.edges\"\u001b[0m\u001b[0;34m,\u001b[0m \u001b[0msep\u001b[0m\u001b[0;34m=\u001b[0m\u001b[0;34m\"\\t\"\u001b[0m\u001b[0;34m)\u001b[0m\u001b[0;34m\u001b[0m\u001b[0;34m\u001b[0m\u001b[0m\n\u001b[0m\u001b[1;32m      3\u001b[0m \u001b[0;34m\u001b[0m\u001b[0m\n\u001b[1;32m      4\u001b[0m \u001b[0;31m# Read it into nx object\u001b[0m\u001b[0;34m\u001b[0m\u001b[0;34m\u001b[0m\u001b[0;34m\u001b[0m\u001b[0m\n\u001b[1;32m      5\u001b[0m \u001b[0mG\u001b[0m \u001b[0;34m=\u001b[0m \u001b[0mnx\u001b[0m\u001b[0;34m.\u001b[0m\u001b[0mconvert_matrix\u001b[0m\u001b[0;34m.\u001b[0m\u001b[0mfrom_pandas_edgelist\u001b[0m\u001b[0;34m(\u001b[0m\u001b[0mdf\u001b[0m\u001b[0;34m,\u001b[0m \u001b[0msource\u001b[0m\u001b[0;34m=\u001b[0m\u001b[0;34m\"src\"\u001b[0m\u001b[0;34m,\u001b[0m \u001b[0mtarget\u001b[0m\u001b[0;34m=\u001b[0m\u001b[0;34m\"trg\"\u001b[0m\u001b[0;34m,\u001b[0m \u001b[0medge_attr\u001b[0m\u001b[0;34m=\u001b[0m\u001b[0;34m[\u001b[0m\u001b[0;34m\"weight\"\u001b[0m\u001b[0;34m]\u001b[0m\u001b[0;34m)\u001b[0m\u001b[0;34m\u001b[0m\u001b[0;34m\u001b[0m\u001b[0m\n",
      "\u001b[0;31mNameError\u001b[0m: name 'PATH_TO' is not defined"
     ]
    }
   ],
   "source": [
    "# Get df of edges\n",
    "df = pd.read_csv(f\"{PATH_TO['data']['projections']}/edge_list_format/simple_weight.edges\", sep=\"\\t\")\n",
    "\n",
    "# Read it into nx object\n",
    "G = nx.convert_matrix.from_pandas_edgelist(df, source=\"src\", target=\"trg\", edge_attr=[\"weight\"])"
   ]
  },
  {
   "cell_type": "code",
   "execution_count": 22,
   "id": "06eac8e8",
   "metadata": {},
   "outputs": [
    {
     "ename": "NameError",
     "evalue": "name 'G' is not defined",
     "output_type": "error",
     "traceback": [
      "\u001b[0;31m---------------------------------------------------------------------------\u001b[0m",
      "\u001b[0;31mNameError\u001b[0m                                 Traceback (most recent call last)",
      "\u001b[0;32m<ipython-input-22-2ae7f7d5b1a7>\u001b[0m in \u001b[0;36m<module>\u001b[0;34m\u001b[0m\n\u001b[1;32m      1\u001b[0m \u001b[0;31m# Get size of each component\u001b[0m\u001b[0;34m\u001b[0m\u001b[0;34m\u001b[0m\u001b[0;34m\u001b[0m\u001b[0m\n\u001b[0;32m----> 2\u001b[0;31m \u001b[0msizes\u001b[0m \u001b[0;34m=\u001b[0m \u001b[0mCounter\u001b[0m\u001b[0;34m(\u001b[0m\u001b[0;34m[\u001b[0m\u001b[0mlen\u001b[0m\u001b[0;34m(\u001b[0m\u001b[0mc\u001b[0m\u001b[0;34m)\u001b[0m \u001b[0;32mfor\u001b[0m \u001b[0mc\u001b[0m \u001b[0;32min\u001b[0m \u001b[0msorted\u001b[0m\u001b[0;34m(\u001b[0m\u001b[0mnx\u001b[0m\u001b[0;34m.\u001b[0m\u001b[0mconnected_components\u001b[0m\u001b[0;34m(\u001b[0m\u001b[0mG\u001b[0m\u001b[0;34m)\u001b[0m\u001b[0;34m,\u001b[0m \u001b[0mkey\u001b[0m\u001b[0;34m=\u001b[0m\u001b[0mlen\u001b[0m\u001b[0;34m,\u001b[0m \u001b[0mreverse\u001b[0m\u001b[0;34m=\u001b[0m\u001b[0;32mTrue\u001b[0m\u001b[0;34m)\u001b[0m\u001b[0;34m]\u001b[0m\u001b[0;34m)\u001b[0m\u001b[0;34m\u001b[0m\u001b[0;34m\u001b[0m\u001b[0m\n\u001b[0m\u001b[1;32m      3\u001b[0m \u001b[0;34m\u001b[0m\u001b[0m\n\u001b[1;32m      4\u001b[0m \u001b[0;31m# Put the data to the df\u001b[0m\u001b[0;34m\u001b[0m\u001b[0;34m\u001b[0m\u001b[0;34m\u001b[0m\u001b[0m\n\u001b[1;32m      5\u001b[0m \u001b[0msizes_df\u001b[0m \u001b[0;34m=\u001b[0m \u001b[0mpd\u001b[0m\u001b[0;34m.\u001b[0m\u001b[0mDataFrame\u001b[0m\u001b[0;34m(\u001b[0m\u001b[0;34m{\u001b[0m\u001b[0;34m'Size'\u001b[0m\u001b[0;34m:\u001b[0m \u001b[0msizes\u001b[0m\u001b[0;34m.\u001b[0m\u001b[0mkeys\u001b[0m\u001b[0;34m(\u001b[0m\u001b[0;34m)\u001b[0m\u001b[0;34m,\u001b[0m \u001b[0;34m'Count'\u001b[0m\u001b[0;34m:\u001b[0m \u001b[0msizes\u001b[0m\u001b[0;34m.\u001b[0m\u001b[0mvalues\u001b[0m\u001b[0;34m(\u001b[0m\u001b[0;34m)\u001b[0m\u001b[0;34m}\u001b[0m\u001b[0;34m,\u001b[0m \u001b[0mcolumns\u001b[0m\u001b[0;34m=\u001b[0m\u001b[0;34m[\u001b[0m\u001b[0;34m'Size'\u001b[0m\u001b[0;34m,\u001b[0m \u001b[0;34m'Count'\u001b[0m\u001b[0;34m]\u001b[0m\u001b[0;34m)\u001b[0m\u001b[0;34m\u001b[0m\u001b[0;34m\u001b[0m\u001b[0m\n",
      "\u001b[0;31mNameError\u001b[0m: name 'G' is not defined"
     ]
    }
   ],
   "source": [
    "# Get size of each component\n",
    "sizes = Counter([len(c) for c in sorted(nx.connected_components(G), key=len, reverse=True)])\n",
    "\n",
    "# Put the data to the df\n",
    "sizes_df = pd.DataFrame({'Size': sizes.keys(), 'Count': sizes.values()}, columns=['Size', 'Count'])"
   ]
  },
  {
   "cell_type": "markdown",
   "id": "f05ae3f2",
   "metadata": {},
   "source": [
    "From the below graph, we can clearly see that we have one giant component and the rest is mostly components of size 2. Given our problem, i.e. finding an optimal recommendation algorithm, it is fine to keep the disconnected components, even the small ones, as part of our network. However, it is important to keep it mind when computing certain metrics as they could be skewed due to this."
   ]
  },
  {
   "cell_type": "code",
   "execution_count": 98,
   "id": "1308e92a",
   "metadata": {},
   "outputs": [
    {
     "data": {
      "image/png": "[encoded data removed]",
      "text/plain": [
       "<Figure size 864x432 with 1 Axes>"
      ]
     },
     "metadata": {},
     "output_type": "display_data"
    }
   ],
   "source": [
    "# Define axs and figure\n",
    "fig = plt.figure(figsize=(12, 6)) # create figure object with a (width,height)\n",
    "ax = fig.add_axes([0.1,0.15,.8, .8]) # left, bottom, width, height (range 0 to 1)\n",
    "\n",
    "\n",
    "# Plot the data\n",
    "# * Size of a component vs count\n",
    "sns.barplot(data=sizes_df, x='Size', y='Count', ax=ax, palette=\"rocket\");\n",
    "ax.tick_params(axis='x', rotation=45);\n",
    "ax.set_title('Component size vs count', weight='bold');\n",
    "\n",
    "# Save the plot\n",
    "if SAVE_FIG:\n",
    "    plt.savefig(f\"{PATH_TO['data']['figures']}/component_size_vs_count.jpg\")"
   ]
  },
  {
   "cell_type": "markdown",
   "id": "d748c8a7",
   "metadata": {},
   "source": [
    "## #06 Network backboning\n",
    "---\n",
    "\n",
    "Since our projected graphs are pretty dense, we need to use network backboning in order to filter out irrelevant edges.\n",
    "\n",
    "For backboning we have chosen the statistical approach as we use the Noise corrected and Disparity filter methods\n",
    "\n",
    "#### Disparity filter\n",
    "Disparity filter is a node centric approach, which means each node gets assigned their own threshold for which of its edges should be kept and which should be removed. Disparity filter take the average weight of the node as threshold\n",
    "\n",
    "#### Noise-corrected\n",
    "The noise corrected is very similar to the Disparity filter, Noise corrected is however an edge-centric approach where each edge has a different threshold for whether or not it should be kept, it does this by taking the average of the two connecting nodes weight and checks if it fulfills the threshold."
   ]
  },
  {
   "cell_type": "markdown",
   "id": "7e3ea18e",
   "metadata": {},
   "source": [
    "### Why can we not just filter out edges with weight less than certain threshold?\n",
    "\n",
    "Let's start with simple inspection of edge weight distribution.\n",
    "\n",
    "#### Get weights for graph obtained via simple weight projection method"
   ]
  },
  {
   "cell_type": "code",
   "execution_count": 82,
   "id": "2dd95c30",
   "metadata": {},
   "outputs": [],
   "source": [
    "# Get weights within the graph\n",
    "weights = Counter([w for n1, n2, w in G.edges.data(\"weight\")])"
   ]
  },
  {
   "cell_type": "markdown",
   "id": "2648352c",
   "metadata": {},
   "source": [
    "#### Plot the weights distribution\n",
    "\n",
    "Below, you can see the first problem associated with using naive approach, i.e., to just get rid of nodes under certain nodes. The problem is broad weight distribution. (p. 333)"
   ]
  },
  {
   "cell_type": "code",
   "execution_count": 83,
   "id": "a029004c",
   "metadata": {},
   "outputs": [
    {
     "data": {
      "image/png": "[encoded data removed]",
      "text/plain": [
       "<Figure size 432x288 with 1 Axes>"
      ]
     },
     "metadata": {},
     "output_type": "display_data"
    }
   ],
   "source": [
    "# Setup figure so you can plot inside it\n",
    "fig = plt.figure(figsize=(6, 4)) # create figure object with a (width,height)\n",
    "ax = fig.add_axes([0.15,0.2,0.8, 0.7]) # left, bottom, width, height (range 0 to 1)\n",
    "\n",
    "# Plot the distribution\n",
    "weight_dist = sns.scatterplot(x=weights.keys(), y=weights.values(), alpha=0.5, ax=ax)\n",
    "weight_dist.set(xscale=\"log\", yscale=\"log\", xlabel=\"Edge weight\", ylabel=\"# of edges\");\n",
    "weight_dist.set_title(\"Edge weight distribution\", weight=\"bold\");\n",
    "\n",
    "# Save the figure\n",
    "if SAVE_FIG:\n",
    "    plt.savefig(f\"{PATH_TO['data']['figures']}/weight_dist_simple_proj.jpg\")"
   ]
  },
  {
   "cell_type": "code",
   "execution_count": 84,
   "id": "9f658646",
   "metadata": {},
   "outputs": [],
   "source": [
    "# Delete G from memory\n",
    "del G"
   ]
  },
  {
   "cell_type": "markdown",
   "id": "ec44a11e",
   "metadata": {},
   "source": [
    "### Setup for backboning"
   ]
  },
  {
   "cell_type": "markdown",
   "id": "e7081271",
   "metadata": {},
   "source": [
    "In order to be able to use Michele's library, you need to provide in the specific format:\n",
    "- edge list\n",
    "- header must have columns src, trg, weight\n",
    "- should be tab separated\n",
    "- In case of undirected network, the edges have to be present in both directions with the same weights, or set triangular_input to True.\n",
    "\n",
    "With this in mind, I therefore saved our projections in this format. Note that by using edge list format, we lose nodes which are not connected to any other node."
   ]
  },
  {
   "cell_type": "markdown",
   "id": "e0d486d0",
   "metadata": {},
   "source": [
    "### Perform backboning for selected projection"
   ]
  },
  {
   "cell_type": "markdown",
   "id": "b79d46de",
   "metadata": {},
   "source": [
    "Now, that we have loaded the data in the proper format, we can do the network backboning. I chose the below two methods because they are computaionally viable. For instance Double stochastic method was not viable since we were not able to reach convergence. As Michele wrote in the book, this is likely because our network is sparse or because the amount of nodes in each type is not equal to each other. The other methods are very computationally intensive (we can try and see if it works, but I doubt it will run in reasonable time)."
   ]
  },
  {
   "cell_type": "code",
   "execution_count": 57,
   "id": "7c506cbc",
   "metadata": {},
   "outputs": [],
   "source": [
    "backboning_functions_names = ['noise_corrected', 'disparity_filter']\n",
    "backboning_functions = [backboning.noise_corrected, backboning.disparity_filter]"
   ]
  },
  {
   "cell_type": "code",
   "execution_count": 58,
   "id": "36bfe310",
   "metadata": {},
   "outputs": [],
   "source": [
    "if DO_BACKBONING:\n",
    "    metadata = {}\n",
    "    for projection_name in projection_functions_names:\n",
    "        \n",
    "        # Setup if it is directed or not\n",
    "        undirected = projection_name not in ['probs', 'heats']\n",
    "        \n",
    "        # Header\n",
    "        print('='*10)\n",
    "        print(f\"Projection Method: {projection_name.replace('_',' ').title()}\\n\")\n",
    "        \n",
    "        # Load the data into a table --> needed format for the library. FYI: _, _ = nnnodes, nnedges\n",
    "        print('Loading Graph from edge list')\n",
    "        start = time()\n",
    "        table, _, _ = backboning.read(f\"{PATH_TO['data']['projections']}/edge_list_format/{projection_name}.edges\",\n",
    "                                         \"weight\",\n",
    "                                         triangular_input=False,\n",
    "                                         undirected=undirected,\n",
    "                                         consider_self_loops=False,\n",
    "                                         drop_zeroes=True)\n",
    "        load_time = round(time() - start, 2)\n",
    "        print(f'Loaded in {load_time}s\\n')\n",
    "        \n",
    "        for name, backboning_function in zip(backboning_functions_names, backboning_functions):\n",
    "            \n",
    "            # Save fundamental metadata info\n",
    "            metadata[f'{projection_name} {name}'] = {}\n",
    "            metadata[f'{projection_name} {name}']['date'] = date.today().strftime('%d/%m/%y')\n",
    "            metadata[f'{projection_name} {name}']['time'] = datetime.now().strftime('%H:%M:%S')\n",
    "            metadata[f'{projection_name} {name}']['load_time'] = load_time\n",
    "            \n",
    "            \n",
    "            # Compute scores for backboning\n",
    "            print('Computing scores for backboning')\n",
    "            start = time()\n",
    "            backboning_function(table, undirected=True, return_self_loops=False).to_csv(f\"{PATH_TO['data']['backboning']}/{name}/{projection_name}.csv\", index=False)\n",
    "            execution_time = round(time() - start, 2)\n",
    "            metadata[f'{projection_name} {name}']['execution_time'] = execution_time\n",
    "            metadata[f'{projection_name} {name}']['success'] = True\n",
    "            print(f'Finished computing scores for backboning in {execution_time} s')\n",
    "    \n",
    "    # Save the metadata\n",
    "    summarise.write_metadata(metadata, PATH_TO['data']['metadata'], name='backboning')\n",
    "    print('Saved Metadata')"
   ]
  },
  {
   "cell_type": "markdown",
   "id": "73578972",
   "metadata": {},
   "source": [
    "## #07 Analysis of projected and backboned graphs\n",
    "---"
   ]
  },
  {
   "cell_type": "markdown",
   "id": "6fa6e92a",
   "metadata": {},
   "source": [
    "### Select a threshold to filter out edges"
   ]
  },
  {
   "cell_type": "markdown",
   "id": "d5e68026",
   "metadata": {},
   "source": [
    "Below, select a signifficance score to filter out irrelevant edges from projected graph. The below `SIGNIF_THRS` as follows: `P-value` = 1 - `SIGNIF_THRS`. (Keep only edges whose `P-value` is higher than the `P-value` computed based on `SIGNIF_THRS`)"
   ]
  },
  {
   "cell_type": "code",
   "execution_count": 59,
   "id": "394ab052",
   "metadata": {},
   "outputs": [],
   "source": [
    "SIGNIF_THRS = 0.95"
   ]
  },
  {
   "cell_type": "markdown",
   "id": "e2bf9760",
   "metadata": {},
   "source": [
    "### Filter out edges and create a markdown summary\n",
    "\n",
    "Below, we first filter out irrelevant edges. Then compute summary of the given unipartite network and save it to markdown file."
   ]
  },
  {
   "cell_type": "code",
   "execution_count": 60,
   "id": "e6f63ee8",
   "metadata": {},
   "outputs": [],
   "source": [
    "if GENERATE_SUMMARY_PROJ_BACKB:\n",
    "    \n",
    "    metadata = {}\n",
    "\n",
    "    for projection_name in projection_functions_names:\n",
    "        \n",
    "        # Setup if it is directed or not\n",
    "        undirected = projection_name not in ['probs', 'heats']\n",
    "        if undirected:\n",
    "            load_with = nx.Graph\n",
    "        else:\n",
    "            load_with = nx.DiGraph\n",
    "        \n",
    "        # Header\n",
    "        print('='*10)\n",
    "        print(f\"Projection Method: {projection_name.replace('_',' ').title()}\\n\")\n",
    "        \n",
    "        for name, backboning_function in zip(backboning_functions_names, backboning_functions):\n",
    "            \n",
    "            # Fundamental info\n",
    "            metadata[f'{projection_name} {name}'] = {}\n",
    "            metadata[f'{projection_name} {name}']['date'] = date.today().strftime('%d/%m/%y')\n",
    "            metadata[f'{projection_name} {name}']['time'] = datetime.now().strftime('%H:%M:%S')\n",
    "\n",
    "            # Filter\n",
    "            print(f'Backboning using {name}\\n')\n",
    "            start = time()\n",
    "            df = backboning.thresholding(\n",
    "                pd.read_csv(f\"{PATH_TO['data']['backboning']}/{name}/{projection_name}.csv\"),\n",
    "                SIGNIF_THRS)\n",
    "            backb_time = round(time() - start, 2)\n",
    "            metadata[f'{projection_name} {name}']['backboning_time'] = backb_time\n",
    "            print(f'Backboned in {backb_time} s\\n')\n",
    "            \n",
    "            # Load into a graph object\n",
    "            print(\"Loading the filtered edgelist into NX graph object\\n\")\n",
    "            start = time()\n",
    "            df[\"weight\"] = df[\"nij\"] # For naming consistency\n",
    "            G = nx.convert_matrix.from_pandas_edgelist(df, source=\"src\", target=\"trg\", edge_attr=[\"weight\", \"score\"], create_using=load_with)\n",
    "            load_time = round(time() - start, 2)\n",
    "            metadata[f'{projection_name} {name}']['load_time'] = load_time\n",
    "            print(f\"Loaded in {load_time} s\\n\")\n",
    "\n",
    "            # Analysis\n",
    "            print(f\"Starting Markdown Generation\\n\")\n",
    "            start = time()\n",
    "            with contextlib.redirect_stdout(None): # surpress output\n",
    "                \n",
    "                # * Define parameters\n",
    "                root_folder = f\"{PATH_TO['data']['summaries']}/backboned_projections\"\n",
    "                subfolder = f\"{projection_name}/{name}\"\n",
    "                filename = f\"{name}_{SIGNIF_THRS}\"\n",
    "                \n",
    "                # * Run the summary\n",
    "                summarise.generate_markdown(G, filepath=root_folder, name=subfolder, save_name=filename, plain=False)\n",
    "\n",
    "            execution_time = round(time() - start, 2)\n",
    "            metadata[f'{projection_name} {name}']['execution_time'] = execution_time\n",
    "            metadata[f'{projection_name} {name}']['success'] = True\n",
    "            print(f\"Finished in {execution_time} s. Summary saved to {root_folder}/{subfolder}\")\n",
    "            print('='*10 + '\\n')\n",
    "    \n",
    "    # Save metadata\n",
    "    summarise.write_metadata(metadata, filepath=PATH_TO['data']['metadata'], name='projections_backboning_summaries')\n",
    "    print('Saved Metadata')"
   ]
  },
  {
   "cell_type": "markdown",
   "id": "13b00512",
   "metadata": {},
   "source": [
    "### Explore edge weight and score distribution"
   ]
  },
  {
   "cell_type": "code",
   "execution_count": 79,
   "id": "07297b31",
   "metadata": {},
   "outputs": [],
   "source": [
    "which_projection = \"hyperbolic\"\n",
    "which_backboning = \"noise_corrected\""
   ]
  },
  {
   "cell_type": "code",
   "execution_count": 80,
   "id": "fcefb267",
   "metadata": {},
   "outputs": [],
   "source": [
    "df = backboning.thresholding(\n",
    "                pd.read_csv(f\"{PATH_TO['data']['backboning']}/{which_backboning}/{which_projection}.csv\"),\n",
    "                SIGNIF_THRS)"
   ]
  },
  {
   "cell_type": "code",
   "execution_count": 81,
   "id": "e5e7fe8f",
   "metadata": {},
   "outputs": [
    {
     "data": {
      "image/png": "[encoded data removed]",
      "text/plain": [
       "<Figure size 720x360 with 2 Axes>"
      ]
     },
     "metadata": {},
     "output_type": "display_data"
    }
   ],
   "source": [
    "# Setup figure so you can plot inside it\n",
    "fig, axs = plt.subplots(1, 2, figsize=(10, 5))\n",
    "plt.subplots_adjust(wspace=.3)\n",
    "\n",
    "# Plot the distribution\n",
    "weight_dist = sns.histplot(x='nij', data=df, ax=axs[0], stat='probability')\n",
    "score_dist = sns.histplot(x='score', data=df, ax=axs[1], stat='probability')"
   ]
  },
  {
   "cell_type": "code",
   "execution_count": 86,
   "id": "21cf270f",
   "metadata": {},
   "outputs": [
    {
     "ename": "ValueError",
     "evalue": "The truth value of an array with more than one element is ambiguous. Use a.any() or a.all()",
     "output_type": "error",
     "traceback": [
      "\u001b[0;31m---------------------------------------------------------------------------\u001b[0m",
      "\u001b[0;31mValueError\u001b[0m                                Traceback (most recent call last)",
      "\u001b[0;32m<ipython-input-86-74ca954ada9a>\u001b[0m in \u001b[0;36m<module>\u001b[0;34m\u001b[0m\n\u001b[0;32m----> 1\u001b[0;31m \u001b[0mnp\u001b[0m\u001b[0;34m.\u001b[0m\u001b[0mwhere\u001b[0m\u001b[0;34m(\u001b[0m\u001b[0mnp\u001b[0m\u001b[0;34m.\u001b[0m\u001b[0marray\u001b[0m\u001b[0;34m(\u001b[0m\u001b[0mdf\u001b[0m\u001b[0;34m[\u001b[0m\u001b[0;34m'nij'\u001b[0m\u001b[0;34m]\u001b[0m\u001b[0;34m)\u001b[0m \u001b[0;34m>\u001b[0m \u001b[0;36m1\u001b[0m \u001b[0;32mor\u001b[0m \u001b[0mnp\u001b[0m\u001b[0;34m.\u001b[0m\u001b[0marray\u001b[0m\u001b[0;34m(\u001b[0m\u001b[0mdf\u001b[0m\u001b[0;34m[\u001b[0m\u001b[0;34m'nij'\u001b[0m\u001b[0;34m]\u001b[0m\u001b[0;34m)\u001b[0m \u001b[0;34m<\u001b[0m \u001b[0;36m0\u001b[0m\u001b[0;34m)\u001b[0m\u001b[0;34m\u001b[0m\u001b[0;34m\u001b[0m\u001b[0m\n\u001b[0m",
      "\u001b[0;31mValueError\u001b[0m: The truth value of an array with more than one element is ambiguous. Use a.any() or a.all()"
     ]
    }
   ],
   "source": [
    "np.where(np.array(df['nij']) > 1 or np.array(df['nij']) < 0)"
   ]
  },
  {
   "cell_type": "code",
   "execution_count": 95,
   "id": "f80b8353",
   "metadata": {},
   "outputs": [
    {
     "data": {
      "text/plain": [
       "0.9971414915130717"
      ]
     },
     "execution_count": 95,
     "metadata": {},
     "output_type": "execute_result"
    }
   ],
   "source": [
    "np.sum(np.array(df['nij']) < 1)/np.array(df['nij']).shape[0]"
   ]
  },
  {
   "cell_type": "code",
   "execution_count": 97,
   "id": "4083924c",
   "metadata": {},
   "outputs": [
    {
     "data": {
      "text/plain": [
       "True"
      ]
     },
     "execution_count": 97,
     "metadata": {},
     "output_type": "execute_result"
    }
   ],
   "source": [
    "(99/100)*(99/100) < 99/100"
   ]
  },
  {
   "cell_type": "code",
   "execution_count": 102,
   "id": "6edfaaa4",
   "metadata": {},
   "outputs": [
    {
     "data": {
      "text/plain": [
       "0.9408"
      ]
     },
     "execution_count": 102,
     "metadata": {},
     "output_type": "execute_result"
    }
   ],
   "source": [
    "98/100*96/100"
   ]
  },
  {
   "cell_type": "markdown",
   "id": "0068d5cd",
   "metadata": {},
   "source": [
    "## #08 Similarity algorithms\n",
    "\n",
    "In this section we focus on utilizing our gained knowledge from previous sections and we try to find optimal algorithms for finding similar repositories.\n",
    "\n",
    "### Setup"
   ]
  },
  {
   "cell_type": "markdown",
   "id": "ffe67bb6",
   "metadata": {},
   "source": [
    "## #09 Evaluation of Hyperbolic + Heats for naive and search depth"
   ]
  },
  {
   "cell_type": "code",
   "execution_count": 36,
   "id": "2ce273c9",
   "metadata": {},
   "outputs": [
    {
     "data": {
      "text/plain": [
       "[None, None, None, None, None, None, None, None]"
      ]
     },
     "execution_count": 36,
     "metadata": {},
     "output_type": "execute_result"
    },
    {
     "data": {
      "image/png": "[encoded data removed]",
      "text/plain": [
       "<Figure size 432x288 with 1 Axes>"
      ]
     },
     "metadata": {},
     "output_type": "display_data"
    }
   ],
   "source": [
    "hyperbolic_naive = 0.4047233213281249\n",
    "hyperbolic_search_depth = 0.40437769026208115\n",
    "\n",
    "heats_naive = 0.32486070989473026\n",
    "heats_search_depth = 0.3193109407636941\n",
    "\n",
    "methods = ['Hyperbolic Naive','Hyperbolic search depth', 'Heats Naive', 'Heats Search Depth']\n",
    "scores = [0.4047233213281249,0.40437769026208115,0.32486070989473026,0.3193109407636941]\n",
    "\n",
    "#sns.barplot(x=hyperbolic_naive)\n",
    "\n",
    "df = sns.load_dataset('titanic')\n",
    "\n",
    "# who v/s fare barplot\n",
    "#sns.barplot(x = 'who',\n",
    "#            y = 'fare',\n",
    "#            data = df)\n",
    "\n",
    "df\n",
    "newDf = pd.DataFrame()\n",
    "newDf['Hyperbolic naive'] = 10\n",
    "newDf['Hyperbolic search depth'] = hyperbolic_search_depth\n",
    "newDf['Heats naive'] = heats_naive\n",
    "newDf['Heats search depth'] =  heats_search_depth\n",
    "\n",
    "newDf = pd.DataFrame(\n",
    "    {'methods': methods,\n",
    "     'scores': scores\n",
    "    })\n",
    "\n",
    "sns.barplot(x='methods',y='scores', data=newDf,linewidth=2.5, facecolor=(1, 1, 1, 0),\n",
    "                 errcolor=\".2\", edgecolor=\".2\")\n",
    "locs, labels = plt.xticks()\n",
    "plt.setp(labels, rotation=20)\n"
   ]
  },
  {
   "cell_type": "markdown",
   "id": "d2e2eef3",
   "metadata": {},
   "source": [
    "# #09 Visualization - Gephi\n",
    "\n",
    "## Edge induced random sampling\n",
    "\n",
    "- because selecting nodes randomly will disregard hubs since there is a way larger probability of choosing a non-hub, whereas choosing random edges does not have that issue since more edges are connected to hubs (read more in the book in chapter Network Sampling)"
   ]
  },
  {
   "cell_type": "code",
   "execution_count": 49,
   "id": "ea93167c",
   "metadata": {},
   "outputs": [],
   "source": [
    "if RANDOM_SAMPLE:\n",
    "    #SETUP\n",
    "    name = 'jaccard'\n",
    "    sampled_graph_size = 10000\n",
    "\n",
    "    #SAMPLING\n",
    "    edge_list = pd.read_csv(f'data/projections/edge_list_format/{name}.edges', sep='\\t')\n",
    "    edge_list = np.array(edge_list)\n",
    "    random_edges = np.random.choice(edge_list.shape[0], size=sampled_graph_size, replace=False)\n",
    "    sampled_edges= edge_list[random_edges,:]\n",
    "    pd.DataFrame(sampled_edges).to_csv(f\"data/sampled/{name}_sample.csv\", index=False)"
   ]
  },
  {
   "cell_type": "markdown",
   "id": "f1ad0d88",
   "metadata": {},
   "source": [
    "### Jaccard random sample\n",
    "- #Edges 10000\n",
    "- #Nodes 10986\n",
    "\n",
    "- #AVG degree 0.91\n",
    "\n",
    "- #Number of weakly connected components 1688\n",
    "\n",
    "#### Interpretation\n",
    "- Purple colour edge - large edge weight (gradient)\n",
    "- Blue colour edge - small edge weight (gradient)\n",
    "- Blue colour node - large degree (gradient)\n",
    "- Green colour node - small degree (gradient)\n",
    "- Degree distribution follows the theoretical degree distribution (can be seen in data/sampled/degree_distribution_sample.png)\n",
    "\n",
    "![alt text](data/sampled/screenshot_133054.png \"Title\")"
   ]
  },
  {
   "cell_type": "markdown",
   "id": "b57d9d55",
   "metadata": {},
   "source": [
    "---"
   ]
  }
 ],
 "metadata": {
  "deepnote": {},
  "deepnote_execution_queue": [],
  "deepnote_notebook_id": "5befc242-845e-4d7f-adb3-0e0bb747a3d1",
  "kernelspec": {
   "display_name": "Python 3",
   "language": "python",
   "name": "python3"
  },
  "language_info": {
   "codemirror_mode": {
    "name": "ipython",
    "version": 3
   },
   "file_extension": ".py",
   "mimetype": "text/x-python",
   "name": "python",
   "nbconvert_exporter": "python",
   "pygments_lexer": "ipython3",
   "version": "3.8.5"
  }
 },
 "nbformat": 4,
 "nbformat_minor": 5
}
